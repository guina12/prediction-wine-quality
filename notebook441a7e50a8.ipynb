{
 "cells": [
  {
   "cell_type": "code",
   "execution_count": 1,
   "id": "6d0ca930",
   "metadata": {
    "execution": {
     "iopub.execute_input": "2023-04-01T20:37:01.387531Z",
     "iopub.status.busy": "2023-04-01T20:37:01.386617Z",
     "iopub.status.idle": "2023-04-01T20:37:02.787701Z",
     "shell.execute_reply": "2023-04-01T20:37:02.786609Z"
    },
    "id": "NNLTK17tOjbx",
    "papermill": {
     "duration": 1.418488,
     "end_time": "2023-04-01T20:37:02.790602",
     "exception": false,
     "start_time": "2023-04-01T20:37:01.372114",
     "status": "completed"
    },
    "tags": []
   },
   "outputs": [],
   "source": [
    "import pandas as pd\n",
    "import numpy as np\n",
    "import seaborn as sns\n",
    "import missingno as msno\n",
    "import matplotlib.pyplot as plt\n",
    "import random\n",
    "from sklearn.linear_model import  LogisticRegression\n",
    "from sklearn import  metrics\n",
    "from sklearn.model_selection import train_test_split\n",
    "from sklearn.feature_selection import f_classif\n",
    "from sklearn.feature_selection import SelectPercentile\n"
   ]
  },
  {
   "cell_type": "markdown",
   "id": "4f02175f",
   "metadata": {
    "id": "ikJp54R6O3dJ",
    "papermill": {
     "duration": 0.011485,
     "end_time": "2023-04-01T20:37:02.813763",
     "exception": false,
     "start_time": "2023-04-01T20:37:02.802278",
     "status": "completed"
    },
    "tags": []
   },
   "source": [
    "# EXploration Data"
   ]
  },
  {
   "cell_type": "code",
   "execution_count": 2,
   "id": "dd646aa5",
   "metadata": {
    "execution": {
     "iopub.execute_input": "2023-04-01T20:37:02.840270Z",
     "iopub.status.busy": "2023-04-01T20:37:02.839739Z",
     "iopub.status.idle": "2023-04-01T20:37:02.866477Z",
     "shell.execute_reply": "2023-04-01T20:37:02.865531Z"
    },
    "id": "zw71YmzlO8ka",
    "papermill": {
     "duration": 0.0421,
     "end_time": "2023-04-01T20:37:02.869142",
     "exception": false,
     "start_time": "2023-04-01T20:37:02.827042",
     "status": "completed"
    },
    "tags": []
   },
   "outputs": [],
   "source": [
    "df=pd.read_csv('/kaggle/input/red-wine-quality-cortez-et-al-2009/winequality-red.csv')"
   ]
  },
  {
   "cell_type": "code",
   "execution_count": 3,
   "id": "2d40d5c0",
   "metadata": {
    "execution": {
     "iopub.execute_input": "2023-04-01T20:37:02.894405Z",
     "iopub.status.busy": "2023-04-01T20:37:02.893566Z",
     "iopub.status.idle": "2023-04-01T20:37:02.928047Z",
     "shell.execute_reply": "2023-04-01T20:37:02.926683Z"
    },
    "id": "U3B9AwowPsex",
    "outputId": "c3b85054-1514-4c76-a06d-bdceda1e9cb0",
    "papermill": {
     "duration": 0.049935,
     "end_time": "2023-04-01T20:37:02.930518",
     "exception": false,
     "start_time": "2023-04-01T20:37:02.880583",
     "status": "completed"
    },
    "tags": []
   },
   "outputs": [
    {
     "data": {
      "text/html": [
       "<div>\n",
       "<style scoped>\n",
       "    .dataframe tbody tr th:only-of-type {\n",
       "        vertical-align: middle;\n",
       "    }\n",
       "\n",
       "    .dataframe tbody tr th {\n",
       "        vertical-align: top;\n",
       "    }\n",
       "\n",
       "    .dataframe thead th {\n",
       "        text-align: right;\n",
       "    }\n",
       "</style>\n",
       "<table border=\"1\" class=\"dataframe\">\n",
       "  <thead>\n",
       "    <tr style=\"text-align: right;\">\n",
       "      <th></th>\n",
       "      <th>fixed acidity</th>\n",
       "      <th>volatile acidity</th>\n",
       "      <th>citric acid</th>\n",
       "      <th>residual sugar</th>\n",
       "      <th>chlorides</th>\n",
       "      <th>free sulfur dioxide</th>\n",
       "      <th>total sulfur dioxide</th>\n",
       "      <th>density</th>\n",
       "      <th>pH</th>\n",
       "      <th>sulphates</th>\n",
       "      <th>alcohol</th>\n",
       "      <th>quality</th>\n",
       "    </tr>\n",
       "  </thead>\n",
       "  <tbody>\n",
       "    <tr>\n",
       "      <th>0</th>\n",
       "      <td>7.4</td>\n",
       "      <td>0.70</td>\n",
       "      <td>0.00</td>\n",
       "      <td>1.9</td>\n",
       "      <td>0.076</td>\n",
       "      <td>11.0</td>\n",
       "      <td>34.0</td>\n",
       "      <td>0.9978</td>\n",
       "      <td>3.51</td>\n",
       "      <td>0.56</td>\n",
       "      <td>9.4</td>\n",
       "      <td>5</td>\n",
       "    </tr>\n",
       "    <tr>\n",
       "      <th>1</th>\n",
       "      <td>7.8</td>\n",
       "      <td>0.88</td>\n",
       "      <td>0.00</td>\n",
       "      <td>2.6</td>\n",
       "      <td>0.098</td>\n",
       "      <td>25.0</td>\n",
       "      <td>67.0</td>\n",
       "      <td>0.9968</td>\n",
       "      <td>3.20</td>\n",
       "      <td>0.68</td>\n",
       "      <td>9.8</td>\n",
       "      <td>5</td>\n",
       "    </tr>\n",
       "    <tr>\n",
       "      <th>2</th>\n",
       "      <td>7.8</td>\n",
       "      <td>0.76</td>\n",
       "      <td>0.04</td>\n",
       "      <td>2.3</td>\n",
       "      <td>0.092</td>\n",
       "      <td>15.0</td>\n",
       "      <td>54.0</td>\n",
       "      <td>0.9970</td>\n",
       "      <td>3.26</td>\n",
       "      <td>0.65</td>\n",
       "      <td>9.8</td>\n",
       "      <td>5</td>\n",
       "    </tr>\n",
       "    <tr>\n",
       "      <th>3</th>\n",
       "      <td>11.2</td>\n",
       "      <td>0.28</td>\n",
       "      <td>0.56</td>\n",
       "      <td>1.9</td>\n",
       "      <td>0.075</td>\n",
       "      <td>17.0</td>\n",
       "      <td>60.0</td>\n",
       "      <td>0.9980</td>\n",
       "      <td>3.16</td>\n",
       "      <td>0.58</td>\n",
       "      <td>9.8</td>\n",
       "      <td>6</td>\n",
       "    </tr>\n",
       "    <tr>\n",
       "      <th>4</th>\n",
       "      <td>7.4</td>\n",
       "      <td>0.70</td>\n",
       "      <td>0.00</td>\n",
       "      <td>1.9</td>\n",
       "      <td>0.076</td>\n",
       "      <td>11.0</td>\n",
       "      <td>34.0</td>\n",
       "      <td>0.9978</td>\n",
       "      <td>3.51</td>\n",
       "      <td>0.56</td>\n",
       "      <td>9.4</td>\n",
       "      <td>5</td>\n",
       "    </tr>\n",
       "  </tbody>\n",
       "</table>\n",
       "</div>"
      ],
      "text/plain": [
       "   fixed acidity  volatile acidity  citric acid  residual sugar  chlorides  \\\n",
       "0            7.4              0.70         0.00             1.9      0.076   \n",
       "1            7.8              0.88         0.00             2.6      0.098   \n",
       "2            7.8              0.76         0.04             2.3      0.092   \n",
       "3           11.2              0.28         0.56             1.9      0.075   \n",
       "4            7.4              0.70         0.00             1.9      0.076   \n",
       "\n",
       "   free sulfur dioxide  total sulfur dioxide  density    pH  sulphates  \\\n",
       "0                 11.0                  34.0   0.9978  3.51       0.56   \n",
       "1                 25.0                  67.0   0.9968  3.20       0.68   \n",
       "2                 15.0                  54.0   0.9970  3.26       0.65   \n",
       "3                 17.0                  60.0   0.9980  3.16       0.58   \n",
       "4                 11.0                  34.0   0.9978  3.51       0.56   \n",
       "\n",
       "   alcohol  quality  \n",
       "0      9.4        5  \n",
       "1      9.8        5  \n",
       "2      9.8        5  \n",
       "3      9.8        6  \n",
       "4      9.4        5  "
      ]
     },
     "execution_count": 3,
     "metadata": {},
     "output_type": "execute_result"
    }
   ],
   "source": [
    "df.head(5)"
   ]
  },
  {
   "cell_type": "code",
   "execution_count": 4,
   "id": "c4c3fcbd",
   "metadata": {
    "execution": {
     "iopub.execute_input": "2023-04-01T20:37:02.955907Z",
     "iopub.status.busy": "2023-04-01T20:37:02.955413Z",
     "iopub.status.idle": "2023-04-01T20:37:02.966163Z",
     "shell.execute_reply": "2023-04-01T20:37:02.965038Z"
    },
    "id": "s0LUoNFhQMKH",
    "outputId": "81facf5f-2c48-42cc-be9c-dd00aecbfb41",
    "papermill": {
     "duration": 0.026241,
     "end_time": "2023-04-01T20:37:02.968529",
     "exception": false,
     "start_time": "2023-04-01T20:37:02.942288",
     "status": "completed"
    },
    "tags": []
   },
   "outputs": [
    {
     "data": {
      "text/plain": [
       "fixed acidity           0\n",
       "volatile acidity        0\n",
       "citric acid             0\n",
       "residual sugar          0\n",
       "chlorides               0\n",
       "free sulfur dioxide     0\n",
       "total sulfur dioxide    0\n",
       "density                 0\n",
       "pH                      0\n",
       "sulphates               0\n",
       "alcohol                 0\n",
       "quality                 0\n",
       "dtype: int64"
      ]
     },
     "execution_count": 4,
     "metadata": {},
     "output_type": "execute_result"
    }
   ],
   "source": [
    "df.isna().sum()"
   ]
  },
  {
   "cell_type": "code",
   "execution_count": 5,
   "id": "ba2e8db1",
   "metadata": {
    "execution": {
     "iopub.execute_input": "2023-04-01T20:37:02.994583Z",
     "iopub.status.busy": "2023-04-01T20:37:02.993796Z",
     "iopub.status.idle": "2023-04-01T20:37:03.012395Z",
     "shell.execute_reply": "2023-04-01T20:37:03.011228Z"
    },
    "id": "jdH-8R-eQQcE",
    "outputId": "a61c056d-7741-44fd-eb32-984eb6b8ea64",
    "papermill": {
     "duration": 0.034647,
     "end_time": "2023-04-01T20:37:03.015037",
     "exception": false,
     "start_time": "2023-04-01T20:37:02.980390",
     "status": "completed"
    },
    "tags": []
   },
   "outputs": [
    {
     "data": {
      "text/plain": [
       "240"
      ]
     },
     "execution_count": 5,
     "metadata": {},
     "output_type": "execute_result"
    }
   ],
   "source": [
    "df.duplicated().sum()"
   ]
  },
  {
   "cell_type": "markdown",
   "id": "ca16d0ad",
   "metadata": {
    "id": "v2-UV4uTRUkV",
    "papermill": {
     "duration": 0.011757,
     "end_time": "2023-04-01T20:37:03.038782",
     "exception": false,
     "start_time": "2023-04-01T20:37:03.027025",
     "status": "completed"
    },
    "tags": []
   },
   "source": [
    "Rename ALL Columns."
   ]
  },
  {
   "cell_type": "code",
   "execution_count": 6,
   "id": "6562b7a7",
   "metadata": {
    "execution": {
     "iopub.execute_input": "2023-04-01T20:37:03.064659Z",
     "iopub.status.busy": "2023-04-01T20:37:03.064222Z",
     "iopub.status.idle": "2023-04-01T20:37:03.070645Z",
     "shell.execute_reply": "2023-04-01T20:37:03.069416Z"
    },
    "id": "4wLuAXxjRbFL",
    "papermill": {
     "duration": 0.02224,
     "end_time": "2023-04-01T20:37:03.072992",
     "exception": false,
     "start_time": "2023-04-01T20:37:03.050752",
     "status": "completed"
    },
    "tags": []
   },
   "outputs": [],
   "source": [
    "df.rename(columns={'fixed acidity':'fixedacidity','volatile acidity':'volatileacidity','citric acid':'citricacid','residual sugar':'residualsugar','free sulfur dioxide':'freesulfurdioxide','total sulfur dioxide':'totalsulfurdioxide'},inplace=True)"
   ]
  },
  {
   "cell_type": "code",
   "execution_count": 7,
   "id": "8ab30c54",
   "metadata": {
    "execution": {
     "iopub.execute_input": "2023-04-01T20:37:03.100182Z",
     "iopub.status.busy": "2023-04-01T20:37:03.099697Z",
     "iopub.status.idle": "2023-04-01T20:37:03.121265Z",
     "shell.execute_reply": "2023-04-01T20:37:03.119940Z"
    },
    "id": "4CK9gY4eSZZu",
    "outputId": "e42f17d5-4b4b-4f36-9dbc-6ef95c4c4bd0",
    "papermill": {
     "duration": 0.038112,
     "end_time": "2023-04-01T20:37:03.123552",
     "exception": false,
     "start_time": "2023-04-01T20:37:03.085440",
     "status": "completed"
    },
    "tags": []
   },
   "outputs": [
    {
     "data": {
      "text/html": [
       "<div>\n",
       "<style scoped>\n",
       "    .dataframe tbody tr th:only-of-type {\n",
       "        vertical-align: middle;\n",
       "    }\n",
       "\n",
       "    .dataframe tbody tr th {\n",
       "        vertical-align: top;\n",
       "    }\n",
       "\n",
       "    .dataframe thead th {\n",
       "        text-align: right;\n",
       "    }\n",
       "</style>\n",
       "<table border=\"1\" class=\"dataframe\">\n",
       "  <thead>\n",
       "    <tr style=\"text-align: right;\">\n",
       "      <th></th>\n",
       "      <th>fixedacidity</th>\n",
       "      <th>volatileacidity</th>\n",
       "      <th>citricacid</th>\n",
       "      <th>residualsugar</th>\n",
       "      <th>chlorides</th>\n",
       "      <th>freesulfurdioxide</th>\n",
       "      <th>totalsulfurdioxide</th>\n",
       "      <th>density</th>\n",
       "      <th>pH</th>\n",
       "      <th>sulphates</th>\n",
       "      <th>alcohol</th>\n",
       "      <th>quality</th>\n",
       "    </tr>\n",
       "  </thead>\n",
       "  <tbody>\n",
       "    <tr>\n",
       "      <th>0</th>\n",
       "      <td>7.4</td>\n",
       "      <td>0.70</td>\n",
       "      <td>0.00</td>\n",
       "      <td>1.9</td>\n",
       "      <td>0.076</td>\n",
       "      <td>11.0</td>\n",
       "      <td>34.0</td>\n",
       "      <td>0.9978</td>\n",
       "      <td>3.51</td>\n",
       "      <td>0.56</td>\n",
       "      <td>9.4</td>\n",
       "      <td>5</td>\n",
       "    </tr>\n",
       "    <tr>\n",
       "      <th>1</th>\n",
       "      <td>7.8</td>\n",
       "      <td>0.88</td>\n",
       "      <td>0.00</td>\n",
       "      <td>2.6</td>\n",
       "      <td>0.098</td>\n",
       "      <td>25.0</td>\n",
       "      <td>67.0</td>\n",
       "      <td>0.9968</td>\n",
       "      <td>3.20</td>\n",
       "      <td>0.68</td>\n",
       "      <td>9.8</td>\n",
       "      <td>5</td>\n",
       "    </tr>\n",
       "    <tr>\n",
       "      <th>2</th>\n",
       "      <td>7.8</td>\n",
       "      <td>0.76</td>\n",
       "      <td>0.04</td>\n",
       "      <td>2.3</td>\n",
       "      <td>0.092</td>\n",
       "      <td>15.0</td>\n",
       "      <td>54.0</td>\n",
       "      <td>0.9970</td>\n",
       "      <td>3.26</td>\n",
       "      <td>0.65</td>\n",
       "      <td>9.8</td>\n",
       "      <td>5</td>\n",
       "    </tr>\n",
       "    <tr>\n",
       "      <th>3</th>\n",
       "      <td>11.2</td>\n",
       "      <td>0.28</td>\n",
       "      <td>0.56</td>\n",
       "      <td>1.9</td>\n",
       "      <td>0.075</td>\n",
       "      <td>17.0</td>\n",
       "      <td>60.0</td>\n",
       "      <td>0.9980</td>\n",
       "      <td>3.16</td>\n",
       "      <td>0.58</td>\n",
       "      <td>9.8</td>\n",
       "      <td>6</td>\n",
       "    </tr>\n",
       "    <tr>\n",
       "      <th>4</th>\n",
       "      <td>7.4</td>\n",
       "      <td>0.70</td>\n",
       "      <td>0.00</td>\n",
       "      <td>1.9</td>\n",
       "      <td>0.076</td>\n",
       "      <td>11.0</td>\n",
       "      <td>34.0</td>\n",
       "      <td>0.9978</td>\n",
       "      <td>3.51</td>\n",
       "      <td>0.56</td>\n",
       "      <td>9.4</td>\n",
       "      <td>5</td>\n",
       "    </tr>\n",
       "  </tbody>\n",
       "</table>\n",
       "</div>"
      ],
      "text/plain": [
       "   fixedacidity  volatileacidity  citricacid  residualsugar  chlorides  \\\n",
       "0           7.4             0.70        0.00            1.9      0.076   \n",
       "1           7.8             0.88        0.00            2.6      0.098   \n",
       "2           7.8             0.76        0.04            2.3      0.092   \n",
       "3          11.2             0.28        0.56            1.9      0.075   \n",
       "4           7.4             0.70        0.00            1.9      0.076   \n",
       "\n",
       "   freesulfurdioxide  totalsulfurdioxide  density    pH  sulphates  alcohol  \\\n",
       "0               11.0                34.0   0.9978  3.51       0.56      9.4   \n",
       "1               25.0                67.0   0.9968  3.20       0.68      9.8   \n",
       "2               15.0                54.0   0.9970  3.26       0.65      9.8   \n",
       "3               17.0                60.0   0.9980  3.16       0.58      9.8   \n",
       "4               11.0                34.0   0.9978  3.51       0.56      9.4   \n",
       "\n",
       "   quality  \n",
       "0        5  \n",
       "1        5  \n",
       "2        5  \n",
       "3        6  \n",
       "4        5  "
      ]
     },
     "execution_count": 7,
     "metadata": {},
     "output_type": "execute_result"
    }
   ],
   "source": [
    "df.head(5)"
   ]
  },
  {
   "cell_type": "code",
   "execution_count": 8,
   "id": "98ebbdcd",
   "metadata": {
    "execution": {
     "iopub.execute_input": "2023-04-01T20:37:03.151776Z",
     "iopub.status.busy": "2023-04-01T20:37:03.150934Z",
     "iopub.status.idle": "2023-04-01T20:37:03.162692Z",
     "shell.execute_reply": "2023-04-01T20:37:03.161585Z"
    },
    "id": "J_FhsFSfStbj",
    "outputId": "9cbac0db-2c3d-4788-b0e2-0900e93fb891",
    "papermill": {
     "duration": 0.028779,
     "end_time": "2023-04-01T20:37:03.165175",
     "exception": false,
     "start_time": "2023-04-01T20:37:03.136396",
     "status": "completed"
    },
    "tags": []
   },
   "outputs": [
    {
     "data": {
      "text/plain": [
       "7.2     67\n",
       "7.1     57\n",
       "7.8     53\n",
       "7.5     52\n",
       "7.0     50\n",
       "        ..\n",
       "13.5     1\n",
       "13.8     1\n",
       "13.4     1\n",
       "4.7      1\n",
       "5.5      1\n",
       "Name: fixedacidity, Length: 96, dtype: int64"
      ]
     },
     "execution_count": 8,
     "metadata": {},
     "output_type": "execute_result"
    }
   ],
   "source": [
    "df['fixedacidity'].value_counts()"
   ]
  },
  {
   "cell_type": "code",
   "execution_count": 9,
   "id": "bef28831",
   "metadata": {
    "execution": {
     "iopub.execute_input": "2023-04-01T20:37:03.192693Z",
     "iopub.status.busy": "2023-04-01T20:37:03.192262Z",
     "iopub.status.idle": "2023-04-01T20:37:03.198288Z",
     "shell.execute_reply": "2023-04-01T20:37:03.197061Z"
    },
    "id": "CaKj0kVxTDM-",
    "papermill": {
     "duration": 0.023106,
     "end_time": "2023-04-01T20:37:03.200902",
     "exception": false,
     "start_time": "2023-04-01T20:37:03.177796",
     "status": "completed"
    },
    "tags": []
   },
   "outputs": [],
   "source": [
    "id_counts=df['fixedacidity'].value_counts()"
   ]
  },
  {
   "cell_type": "code",
   "execution_count": 10,
   "id": "084f9029",
   "metadata": {
    "execution": {
     "iopub.execute_input": "2023-04-01T20:37:03.228546Z",
     "iopub.status.busy": "2023-04-01T20:37:03.228070Z",
     "iopub.status.idle": "2023-04-01T20:37:03.237509Z",
     "shell.execute_reply": "2023-04-01T20:37:03.236363Z"
    },
    "id": "FNlJuezNTNN9",
    "outputId": "958c30c6-9f97-4fa3-9d19-a8c6c7e14170",
    "papermill": {
     "duration": 0.026056,
     "end_time": "2023-04-01T20:37:03.239729",
     "exception": false,
     "start_time": "2023-04-01T20:37:03.213673",
     "status": "completed"
    },
    "tags": []
   },
   "outputs": [
    {
     "data": {
      "text/plain": [
       "1     11\n",
       "4      7\n",
       "2      6\n",
       "3      6\n",
       "5      5\n",
       "26     4\n",
       "14     4\n",
       "12     3\n",
       "17     3\n",
       "7      3\n",
       "9      3\n",
       "10     3\n",
       "16     2\n",
       "13     2\n",
       "19     2\n",
       "42     2\n",
       "44     2\n",
       "6      2\n",
       "46     2\n",
       "11     1\n",
       "20     1\n",
       "15     1\n",
       "8      1\n",
       "67     1\n",
       "21     1\n",
       "37     1\n",
       "53     1\n",
       "52     1\n",
       "50     1\n",
       "49     1\n",
       "45     1\n",
       "40     1\n",
       "38     1\n",
       "34     1\n",
       "22     1\n",
       "33     1\n",
       "29     1\n",
       "28     1\n",
       "27     1\n",
       "25     1\n",
       "24     1\n",
       "57     1\n",
       "23     1\n",
       "Name: fixedacidity, dtype: int64"
      ]
     },
     "execution_count": 10,
     "metadata": {},
     "output_type": "execute_result"
    }
   ],
   "source": [
    "id_counts.value_counts()"
   ]
  },
  {
   "cell_type": "code",
   "execution_count": 11,
   "id": "30bef12a",
   "metadata": {
    "execution": {
     "iopub.execute_input": "2023-04-01T20:37:03.267293Z",
     "iopub.status.busy": "2023-04-01T20:37:03.266803Z",
     "iopub.status.idle": "2023-04-01T20:37:03.272591Z",
     "shell.execute_reply": "2023-04-01T20:37:03.271422Z"
    },
    "id": "HzC05FZyTWS9",
    "papermill": {
     "duration": 0.022299,
     "end_time": "2023-04-01T20:37:03.274934",
     "exception": false,
     "start_time": "2023-04-01T20:37:03.252635",
     "status": "completed"
    },
    "tags": []
   },
   "outputs": [],
   "source": [
    "df_mask=id_counts==1"
   ]
  },
  {
   "cell_type": "code",
   "execution_count": 12,
   "id": "73397acd",
   "metadata": {
    "execution": {
     "iopub.execute_input": "2023-04-01T20:37:03.302967Z",
     "iopub.status.busy": "2023-04-01T20:37:03.302519Z",
     "iopub.status.idle": "2023-04-01T20:37:03.309532Z",
     "shell.execute_reply": "2023-04-01T20:37:03.308295Z"
    },
    "id": "4CLcR_cPTeL9",
    "outputId": "bbcd6e86-d577-4060-bcd2-d45dd0b315ac",
    "papermill": {
     "duration": 0.023891,
     "end_time": "2023-04-01T20:37:03.311842",
     "exception": false,
     "start_time": "2023-04-01T20:37:03.287951",
     "status": "completed"
    },
    "tags": []
   },
   "outputs": [
    {
     "data": {
      "text/plain": [
       "11"
      ]
     },
     "execution_count": 12,
     "metadata": {},
     "output_type": "execute_result"
    }
   ],
   "source": [
    "sum(df_mask)"
   ]
  },
  {
   "cell_type": "code",
   "execution_count": 13,
   "id": "e6f5450a",
   "metadata": {
    "execution": {
     "iopub.execute_input": "2023-04-01T20:37:03.340938Z",
     "iopub.status.busy": "2023-04-01T20:37:03.340447Z",
     "iopub.status.idle": "2023-04-01T20:37:03.346267Z",
     "shell.execute_reply": "2023-04-01T20:37:03.344954Z"
    },
    "id": "NNXG8KXoThcS",
    "papermill": {
     "duration": 0.023037,
     "end_time": "2023-04-01T20:37:03.348562",
     "exception": false,
     "start_time": "2023-04-01T20:37:03.325525",
     "status": "completed"
    },
    "tags": []
   },
   "outputs": [],
   "source": [
    "df_feature=id_counts.index[df_mask]\n",
    "df_feature=list(df_feature)"
   ]
  },
  {
   "cell_type": "code",
   "execution_count": 14,
   "id": "841231d1",
   "metadata": {
    "execution": {
     "iopub.execute_input": "2023-04-01T20:37:03.377003Z",
     "iopub.status.busy": "2023-04-01T20:37:03.376441Z",
     "iopub.status.idle": "2023-04-01T20:37:03.383203Z",
     "shell.execute_reply": "2023-04-01T20:37:03.382317Z"
    },
    "id": "OTi_hoBGTroy",
    "outputId": "d23d19c2-6ae0-4aa4-e114-15d621a14034",
    "papermill": {
     "duration": 0.023785,
     "end_time": "2023-04-01T20:37:03.385465",
     "exception": false,
     "start_time": "2023-04-01T20:37:03.361680",
     "status": "completed"
    },
    "tags": []
   },
   "outputs": [
    {
     "data": {
      "text/plain": [
       "[12.1, 4.9, 15.9]"
      ]
     },
     "execution_count": 14,
     "metadata": {},
     "output_type": "execute_result"
    }
   ],
   "source": [
    "df_feature[:3]"
   ]
  },
  {
   "cell_type": "code",
   "execution_count": 15,
   "id": "040b0077",
   "metadata": {
    "execution": {
     "iopub.execute_input": "2023-04-01T20:37:03.414560Z",
     "iopub.status.busy": "2023-04-01T20:37:03.413779Z",
     "iopub.status.idle": "2023-04-01T20:37:03.438593Z",
     "shell.execute_reply": "2023-04-01T20:37:03.437747Z"
    },
    "id": "PCwcTxRgT2Vi",
    "outputId": "68cab765-3166-452d-cbf9-b408aa77c74d",
    "papermill": {
     "duration": 0.041918,
     "end_time": "2023-04-01T20:37:03.440585",
     "exception": false,
     "start_time": "2023-04-01T20:37:03.398667",
     "status": "completed"
    },
    "tags": []
   },
   "outputs": [
    {
     "data": {
      "text/html": [
       "<div>\n",
       "<style scoped>\n",
       "    .dataframe tbody tr th:only-of-type {\n",
       "        vertical-align: middle;\n",
       "    }\n",
       "\n",
       "    .dataframe tbody tr th {\n",
       "        vertical-align: top;\n",
       "    }\n",
       "\n",
       "    .dataframe thead th {\n",
       "        text-align: right;\n",
       "    }\n",
       "</style>\n",
       "<table border=\"1\" class=\"dataframe\">\n",
       "  <thead>\n",
       "    <tr style=\"text-align: right;\">\n",
       "      <th></th>\n",
       "      <th>fixedacidity</th>\n",
       "      <th>volatileacidity</th>\n",
       "      <th>citricacid</th>\n",
       "      <th>residualsugar</th>\n",
       "      <th>chlorides</th>\n",
       "      <th>freesulfurdioxide</th>\n",
       "      <th>totalsulfurdioxide</th>\n",
       "      <th>density</th>\n",
       "      <th>pH</th>\n",
       "      <th>sulphates</th>\n",
       "      <th>alcohol</th>\n",
       "      <th>quality</th>\n",
       "    </tr>\n",
       "  </thead>\n",
       "  <tbody>\n",
       "    <tr>\n",
       "      <th>45</th>\n",
       "      <td>4.6</td>\n",
       "      <td>0.52</td>\n",
       "      <td>0.15</td>\n",
       "      <td>2.1</td>\n",
       "      <td>0.054</td>\n",
       "      <td>8.0</td>\n",
       "      <td>65.0</td>\n",
       "      <td>0.99340</td>\n",
       "      <td>3.90</td>\n",
       "      <td>0.56</td>\n",
       "      <td>13.1</td>\n",
       "      <td>4</td>\n",
       "    </tr>\n",
       "    <tr>\n",
       "      <th>544</th>\n",
       "      <td>14.3</td>\n",
       "      <td>0.31</td>\n",
       "      <td>0.74</td>\n",
       "      <td>1.8</td>\n",
       "      <td>0.075</td>\n",
       "      <td>6.0</td>\n",
       "      <td>15.0</td>\n",
       "      <td>1.00080</td>\n",
       "      <td>2.86</td>\n",
       "      <td>0.79</td>\n",
       "      <td>8.4</td>\n",
       "      <td>6</td>\n",
       "    </tr>\n",
       "    <tr>\n",
       "      <th>652</th>\n",
       "      <td>15.9</td>\n",
       "      <td>0.36</td>\n",
       "      <td>0.65</td>\n",
       "      <td>7.5</td>\n",
       "      <td>0.096</td>\n",
       "      <td>22.0</td>\n",
       "      <td>71.0</td>\n",
       "      <td>0.99760</td>\n",
       "      <td>2.98</td>\n",
       "      <td>0.84</td>\n",
       "      <td>14.9</td>\n",
       "      <td>5</td>\n",
       "    </tr>\n",
       "    <tr>\n",
       "      <th>664</th>\n",
       "      <td>12.1</td>\n",
       "      <td>0.40</td>\n",
       "      <td>0.52</td>\n",
       "      <td>2.0</td>\n",
       "      <td>0.092</td>\n",
       "      <td>15.0</td>\n",
       "      <td>54.0</td>\n",
       "      <td>1.00000</td>\n",
       "      <td>3.03</td>\n",
       "      <td>0.66</td>\n",
       "      <td>10.2</td>\n",
       "      <td>5</td>\n",
       "    </tr>\n",
       "    <tr>\n",
       "      <th>821</th>\n",
       "      <td>4.9</td>\n",
       "      <td>0.42</td>\n",
       "      <td>0.00</td>\n",
       "      <td>2.1</td>\n",
       "      <td>0.048</td>\n",
       "      <td>16.0</td>\n",
       "      <td>42.0</td>\n",
       "      <td>0.99154</td>\n",
       "      <td>3.71</td>\n",
       "      <td>0.74</td>\n",
       "      <td>14.0</td>\n",
       "      <td>7</td>\n",
       "    </tr>\n",
       "  </tbody>\n",
       "</table>\n",
       "</div>"
      ],
      "text/plain": [
       "     fixedacidity  volatileacidity  citricacid  residualsugar  chlorides  \\\n",
       "45            4.6             0.52        0.15            2.1      0.054   \n",
       "544          14.3             0.31        0.74            1.8      0.075   \n",
       "652          15.9             0.36        0.65            7.5      0.096   \n",
       "664          12.1             0.40        0.52            2.0      0.092   \n",
       "821           4.9             0.42        0.00            2.1      0.048   \n",
       "\n",
       "     freesulfurdioxide  totalsulfurdioxide  density    pH  sulphates  alcohol  \\\n",
       "45                 8.0                65.0  0.99340  3.90       0.56     13.1   \n",
       "544                6.0                15.0  1.00080  2.86       0.79      8.4   \n",
       "652               22.0                71.0  0.99760  2.98       0.84     14.9   \n",
       "664               15.0                54.0  1.00000  3.03       0.66     10.2   \n",
       "821               16.0                42.0  0.99154  3.71       0.74     14.0   \n",
       "\n",
       "     quality  \n",
       "45         4  \n",
       "544        6  \n",
       "652        5  \n",
       "664        5  \n",
       "821        7  "
      ]
     },
     "execution_count": 15,
     "metadata": {},
     "output_type": "execute_result"
    }
   ],
   "source": [
    "df.loc[df['fixedacidity'].isin(df_feature[0:5]),:].head(5)"
   ]
  },
  {
   "cell_type": "code",
   "execution_count": 16,
   "id": "855336be",
   "metadata": {
    "execution": {
     "iopub.execute_input": "2023-04-01T20:37:03.470537Z",
     "iopub.status.busy": "2023-04-01T20:37:03.470112Z",
     "iopub.status.idle": "2023-04-01T20:37:03.475052Z",
     "shell.execute_reply": "2023-04-01T20:37:03.473917Z"
    },
    "id": "ls_1YsZOe6z-",
    "papermill": {
     "duration": 0.022592,
     "end_time": "2023-04-01T20:37:03.477438",
     "exception": false,
     "start_time": "2023-04-01T20:37:03.454846",
     "status": "completed"
    },
    "tags": []
   },
   "outputs": [],
   "source": [
    "feature_duplicated_id=df.columns.tolist()"
   ]
  },
  {
   "cell_type": "code",
   "execution_count": 17,
   "id": "03f74f9b",
   "metadata": {
    "execution": {
     "iopub.execute_input": "2023-04-01T20:37:03.506717Z",
     "iopub.status.busy": "2023-04-01T20:37:03.506293Z",
     "iopub.status.idle": "2023-04-01T20:37:03.531042Z",
     "shell.execute_reply": "2023-04-01T20:37:03.529922Z"
    },
    "id": "t0pH1zwqfBxY",
    "outputId": "f1fcd994-5e62-4d37-e681-bc61313b705d",
    "papermill": {
     "duration": 0.042359,
     "end_time": "2023-04-01T20:37:03.533549",
     "exception": false,
     "start_time": "2023-04-01T20:37:03.491190",
     "status": "completed"
    },
    "tags": []
   },
   "outputs": [
    {
     "data": {
      "text/html": [
       "<div>\n",
       "<style scoped>\n",
       "    .dataframe tbody tr th:only-of-type {\n",
       "        vertical-align: middle;\n",
       "    }\n",
       "\n",
       "    .dataframe tbody tr th {\n",
       "        vertical-align: top;\n",
       "    }\n",
       "\n",
       "    .dataframe thead th {\n",
       "        text-align: right;\n",
       "    }\n",
       "</style>\n",
       "<table border=\"1\" class=\"dataframe\">\n",
       "  <thead>\n",
       "    <tr style=\"text-align: right;\">\n",
       "      <th></th>\n",
       "      <th>fixedacidity</th>\n",
       "      <th>volatileacidity</th>\n",
       "      <th>citricacid</th>\n",
       "      <th>residualsugar</th>\n",
       "      <th>chlorides</th>\n",
       "      <th>freesulfurdioxide</th>\n",
       "      <th>totalsulfurdioxide</th>\n",
       "      <th>density</th>\n",
       "      <th>pH</th>\n",
       "      <th>sulphates</th>\n",
       "      <th>alcohol</th>\n",
       "      <th>quality</th>\n",
       "    </tr>\n",
       "  </thead>\n",
       "  <tbody>\n",
       "    <tr>\n",
       "      <th>4</th>\n",
       "      <td>7.4</td>\n",
       "      <td>0.700</td>\n",
       "      <td>0.00</td>\n",
       "      <td>1.90</td>\n",
       "      <td>0.076</td>\n",
       "      <td>11.0</td>\n",
       "      <td>34.0</td>\n",
       "      <td>0.9978</td>\n",
       "      <td>3.51</td>\n",
       "      <td>0.56</td>\n",
       "      <td>9.4</td>\n",
       "      <td>5</td>\n",
       "    </tr>\n",
       "    <tr>\n",
       "      <th>11</th>\n",
       "      <td>7.5</td>\n",
       "      <td>0.500</td>\n",
       "      <td>0.36</td>\n",
       "      <td>6.10</td>\n",
       "      <td>0.071</td>\n",
       "      <td>17.0</td>\n",
       "      <td>102.0</td>\n",
       "      <td>0.9978</td>\n",
       "      <td>3.35</td>\n",
       "      <td>0.80</td>\n",
       "      <td>10.5</td>\n",
       "      <td>5</td>\n",
       "    </tr>\n",
       "    <tr>\n",
       "      <th>27</th>\n",
       "      <td>7.9</td>\n",
       "      <td>0.430</td>\n",
       "      <td>0.21</td>\n",
       "      <td>1.60</td>\n",
       "      <td>0.106</td>\n",
       "      <td>10.0</td>\n",
       "      <td>37.0</td>\n",
       "      <td>0.9966</td>\n",
       "      <td>3.17</td>\n",
       "      <td>0.91</td>\n",
       "      <td>9.5</td>\n",
       "      <td>5</td>\n",
       "    </tr>\n",
       "    <tr>\n",
       "      <th>40</th>\n",
       "      <td>7.3</td>\n",
       "      <td>0.450</td>\n",
       "      <td>0.36</td>\n",
       "      <td>5.90</td>\n",
       "      <td>0.074</td>\n",
       "      <td>12.0</td>\n",
       "      <td>87.0</td>\n",
       "      <td>0.9978</td>\n",
       "      <td>3.33</td>\n",
       "      <td>0.83</td>\n",
       "      <td>10.5</td>\n",
       "      <td>5</td>\n",
       "    </tr>\n",
       "    <tr>\n",
       "      <th>65</th>\n",
       "      <td>7.2</td>\n",
       "      <td>0.725</td>\n",
       "      <td>0.05</td>\n",
       "      <td>4.65</td>\n",
       "      <td>0.086</td>\n",
       "      <td>4.0</td>\n",
       "      <td>11.0</td>\n",
       "      <td>0.9962</td>\n",
       "      <td>3.41</td>\n",
       "      <td>0.39</td>\n",
       "      <td>10.9</td>\n",
       "      <td>5</td>\n",
       "    </tr>\n",
       "  </tbody>\n",
       "</table>\n",
       "</div>"
      ],
      "text/plain": [
       "    fixedacidity  volatileacidity  citricacid  residualsugar  chlorides  \\\n",
       "4            7.4            0.700        0.00           1.90      0.076   \n",
       "11           7.5            0.500        0.36           6.10      0.071   \n",
       "27           7.9            0.430        0.21           1.60      0.106   \n",
       "40           7.3            0.450        0.36           5.90      0.074   \n",
       "65           7.2            0.725        0.05           4.65      0.086   \n",
       "\n",
       "    freesulfurdioxide  totalsulfurdioxide  density    pH  sulphates  alcohol  \\\n",
       "4                11.0                34.0   0.9978  3.51       0.56      9.4   \n",
       "11               17.0               102.0   0.9978  3.35       0.80     10.5   \n",
       "27               10.0                37.0   0.9966  3.17       0.91      9.5   \n",
       "40               12.0                87.0   0.9978  3.33       0.83     10.5   \n",
       "65                4.0                11.0   0.9962  3.41       0.39     10.9   \n",
       "\n",
       "    quality  \n",
       "4         5  \n",
       "11        5  \n",
       "27        5  \n",
       "40        5  \n",
       "65        5  "
      ]
     },
     "execution_count": 17,
     "metadata": {},
     "output_type": "execute_result"
    }
   ],
   "source": [
    "df.loc[df.duplicated(subset=feature_duplicated_id)].head(5)"
   ]
  },
  {
   "cell_type": "code",
   "execution_count": 18,
   "id": "e8d893b8",
   "metadata": {
    "execution": {
     "iopub.execute_input": "2023-04-01T20:37:03.563273Z",
     "iopub.status.busy": "2023-04-01T20:37:03.562821Z",
     "iopub.status.idle": "2023-04-01T20:37:03.571391Z",
     "shell.execute_reply": "2023-04-01T20:37:03.570286Z"
    },
    "id": "PEwHPxduh_D8",
    "outputId": "4d33f836-e547-4aab-e61b-aac1b84f7326",
    "papermill": {
     "duration": 0.026215,
     "end_time": "2023-04-01T20:37:03.573750",
     "exception": false,
     "start_time": "2023-04-01T20:37:03.547535",
     "status": "completed"
    },
    "tags": []
   },
   "outputs": [
    {
     "data": {
      "text/plain": [
       "5    681\n",
       "6    638\n",
       "7    199\n",
       "4     53\n",
       "8     18\n",
       "3     10\n",
       "Name: quality, dtype: int64"
      ]
     },
     "execution_count": 18,
     "metadata": {},
     "output_type": "execute_result"
    }
   ],
   "source": [
    "df['quality'].value_counts()\n"
   ]
  },
  {
   "cell_type": "code",
   "execution_count": 19,
   "id": "344c3fe5",
   "metadata": {
    "execution": {
     "iopub.execute_input": "2023-04-01T20:37:03.604274Z",
     "iopub.status.busy": "2023-04-01T20:37:03.603566Z",
     "iopub.status.idle": "2023-04-01T20:37:04.111396Z",
     "shell.execute_reply": "2023-04-01T20:37:04.110194Z"
    },
    "id": "l9jE3D-tfrx0",
    "outputId": "262b3389-51fb-4fe0-b283-97738a6bd92e",
    "papermill": {
     "duration": 0.526569,
     "end_time": "2023-04-01T20:37:04.114612",
     "exception": false,
     "start_time": "2023-04-01T20:37:03.588043",
     "status": "completed"
    },
    "tags": []
   },
   "outputs": [
    {
     "name": "stderr",
     "output_type": "stream",
     "text": [
      "/opt/conda/lib/python3.7/site-packages/ipykernel_launcher.py:3: SettingWithCopyWarning: \n",
      "A value is trying to be set on a copy of a slice from a DataFrame\n",
      "\n",
      "See the caveats in the documentation: https://pandas.pydata.org/pandas-docs/stable/user_guide/indexing.html#returning-a-view-versus-a-copy\n",
      "  This is separate from the ipykernel package so we can avoid doing imports until\n",
      "/opt/conda/lib/python3.7/site-packages/ipykernel_launcher.py:5: SettingWithCopyWarning: \n",
      "A value is trying to be set on a copy of a slice from a DataFrame\n",
      "\n",
      "See the caveats in the documentation: https://pandas.pydata.org/pandas-docs/stable/user_guide/indexing.html#returning-a-view-versus-a-copy\n",
      "  \"\"\"\n"
     ]
    }
   ],
   "source": [
    "for line in range(len(df['quality'])):\n",
    "  if df.quality[line]  <=6 :\n",
    "    df.quality[line]=0\n",
    "  else:\n",
    "    df.quality[line]=1\n"
   ]
  },
  {
   "cell_type": "code",
   "execution_count": 20,
   "id": "2b4a198f",
   "metadata": {
    "execution": {
     "iopub.execute_input": "2023-04-01T20:37:04.146669Z",
     "iopub.status.busy": "2023-04-01T20:37:04.146216Z",
     "iopub.status.idle": "2023-04-01T20:37:04.155589Z",
     "shell.execute_reply": "2023-04-01T20:37:04.154356Z"
    },
    "id": "n1YYtN5hjFye",
    "outputId": "892e52c5-cc59-4a97-fcb8-ea8bd7180414",
    "papermill": {
     "duration": 0.027962,
     "end_time": "2023-04-01T20:37:04.157895",
     "exception": false,
     "start_time": "2023-04-01T20:37:04.129933",
     "status": "completed"
    },
    "tags": []
   },
   "outputs": [
    {
     "data": {
      "text/plain": [
       "0    1382\n",
       "1     217\n",
       "Name: quality, dtype: int64"
      ]
     },
     "execution_count": 20,
     "metadata": {},
     "output_type": "execute_result"
    }
   ],
   "source": [
    "df['quality'].value_counts()"
   ]
  },
  {
   "cell_type": "code",
   "execution_count": 21,
   "id": "d0831826",
   "metadata": {
    "execution": {
     "iopub.execute_input": "2023-04-01T20:37:04.188784Z",
     "iopub.status.busy": "2023-04-01T20:37:04.188328Z",
     "iopub.status.idle": "2023-04-01T20:37:04.209465Z",
     "shell.execute_reply": "2023-04-01T20:37:04.208177Z"
    },
    "id": "omN87J9xj4YN",
    "outputId": "1602b791-fe1d-4b33-bffb-121af260ab7d",
    "papermill": {
     "duration": 0.039699,
     "end_time": "2023-04-01T20:37:04.211981",
     "exception": false,
     "start_time": "2023-04-01T20:37:04.172282",
     "status": "completed"
    },
    "tags": []
   },
   "outputs": [
    {
     "data": {
      "text/html": [
       "<div>\n",
       "<style scoped>\n",
       "    .dataframe tbody tr th:only-of-type {\n",
       "        vertical-align: middle;\n",
       "    }\n",
       "\n",
       "    .dataframe tbody tr th {\n",
       "        vertical-align: top;\n",
       "    }\n",
       "\n",
       "    .dataframe thead th {\n",
       "        text-align: right;\n",
       "    }\n",
       "</style>\n",
       "<table border=\"1\" class=\"dataframe\">\n",
       "  <thead>\n",
       "    <tr style=\"text-align: right;\">\n",
       "      <th></th>\n",
       "      <th>fixedacidity</th>\n",
       "      <th>volatileacidity</th>\n",
       "      <th>citricacid</th>\n",
       "      <th>residualsugar</th>\n",
       "      <th>chlorides</th>\n",
       "      <th>freesulfurdioxide</th>\n",
       "      <th>totalsulfurdioxide</th>\n",
       "      <th>density</th>\n",
       "      <th>pH</th>\n",
       "      <th>sulphates</th>\n",
       "      <th>alcohol</th>\n",
       "      <th>quality</th>\n",
       "    </tr>\n",
       "  </thead>\n",
       "  <tbody>\n",
       "    <tr>\n",
       "      <th>0</th>\n",
       "      <td>7.4</td>\n",
       "      <td>0.70</td>\n",
       "      <td>0.00</td>\n",
       "      <td>1.9</td>\n",
       "      <td>0.076</td>\n",
       "      <td>11.0</td>\n",
       "      <td>34.0</td>\n",
       "      <td>0.9978</td>\n",
       "      <td>3.51</td>\n",
       "      <td>0.56</td>\n",
       "      <td>9.4</td>\n",
       "      <td>0</td>\n",
       "    </tr>\n",
       "    <tr>\n",
       "      <th>1</th>\n",
       "      <td>7.8</td>\n",
       "      <td>0.88</td>\n",
       "      <td>0.00</td>\n",
       "      <td>2.6</td>\n",
       "      <td>0.098</td>\n",
       "      <td>25.0</td>\n",
       "      <td>67.0</td>\n",
       "      <td>0.9968</td>\n",
       "      <td>3.20</td>\n",
       "      <td>0.68</td>\n",
       "      <td>9.8</td>\n",
       "      <td>0</td>\n",
       "    </tr>\n",
       "    <tr>\n",
       "      <th>2</th>\n",
       "      <td>7.8</td>\n",
       "      <td>0.76</td>\n",
       "      <td>0.04</td>\n",
       "      <td>2.3</td>\n",
       "      <td>0.092</td>\n",
       "      <td>15.0</td>\n",
       "      <td>54.0</td>\n",
       "      <td>0.9970</td>\n",
       "      <td>3.26</td>\n",
       "      <td>0.65</td>\n",
       "      <td>9.8</td>\n",
       "      <td>0</td>\n",
       "    </tr>\n",
       "    <tr>\n",
       "      <th>3</th>\n",
       "      <td>11.2</td>\n",
       "      <td>0.28</td>\n",
       "      <td>0.56</td>\n",
       "      <td>1.9</td>\n",
       "      <td>0.075</td>\n",
       "      <td>17.0</td>\n",
       "      <td>60.0</td>\n",
       "      <td>0.9980</td>\n",
       "      <td>3.16</td>\n",
       "      <td>0.58</td>\n",
       "      <td>9.8</td>\n",
       "      <td>0</td>\n",
       "    </tr>\n",
       "    <tr>\n",
       "      <th>4</th>\n",
       "      <td>7.4</td>\n",
       "      <td>0.70</td>\n",
       "      <td>0.00</td>\n",
       "      <td>1.9</td>\n",
       "      <td>0.076</td>\n",
       "      <td>11.0</td>\n",
       "      <td>34.0</td>\n",
       "      <td>0.9978</td>\n",
       "      <td>3.51</td>\n",
       "      <td>0.56</td>\n",
       "      <td>9.4</td>\n",
       "      <td>0</td>\n",
       "    </tr>\n",
       "  </tbody>\n",
       "</table>\n",
       "</div>"
      ],
      "text/plain": [
       "   fixedacidity  volatileacidity  citricacid  residualsugar  chlorides  \\\n",
       "0           7.4             0.70        0.00            1.9      0.076   \n",
       "1           7.8             0.88        0.00            2.6      0.098   \n",
       "2           7.8             0.76        0.04            2.3      0.092   \n",
       "3          11.2             0.28        0.56            1.9      0.075   \n",
       "4           7.4             0.70        0.00            1.9      0.076   \n",
       "\n",
       "   freesulfurdioxide  totalsulfurdioxide  density    pH  sulphates  alcohol  \\\n",
       "0               11.0                34.0   0.9978  3.51       0.56      9.4   \n",
       "1               25.0                67.0   0.9968  3.20       0.68      9.8   \n",
       "2               15.0                54.0   0.9970  3.26       0.65      9.8   \n",
       "3               17.0                60.0   0.9980  3.16       0.58      9.8   \n",
       "4               11.0                34.0   0.9978  3.51       0.56      9.4   \n",
       "\n",
       "   quality  \n",
       "0        0  \n",
       "1        0  \n",
       "2        0  \n",
       "3        0  \n",
       "4        0  "
      ]
     },
     "execution_count": 21,
     "metadata": {},
     "output_type": "execute_result"
    }
   ],
   "source": [
    "df.head(5)"
   ]
  },
  {
   "cell_type": "markdown",
   "id": "9cfa1a57",
   "metadata": {
    "id": "7CO9Iy7_rqrR",
    "papermill": {
     "duration": 0.014583,
     "end_time": "2023-04-01T20:37:04.241321",
     "exception": false,
     "start_time": "2023-04-01T20:37:04.226738",
     "status": "completed"
    },
    "tags": []
   },
   "source": [
    "# CORRELLATION"
   ]
  },
  {
   "cell_type": "code",
   "execution_count": 22,
   "id": "59eb202f",
   "metadata": {
    "execution": {
     "iopub.execute_input": "2023-04-01T20:37:04.273423Z",
     "iopub.status.busy": "2023-04-01T20:37:04.272969Z",
     "iopub.status.idle": "2023-04-01T20:37:04.290274Z",
     "shell.execute_reply": "2023-04-01T20:37:04.288926Z"
    },
    "id": "OIV7u_cFrvTx",
    "outputId": "81830306-cb09-4073-9d35-c123f1132341",
    "papermill": {
     "duration": 0.0365,
     "end_time": "2023-04-01T20:37:04.292647",
     "exception": false,
     "start_time": "2023-04-01T20:37:04.256147",
     "status": "completed"
    },
    "tags": []
   },
   "outputs": [
    {
     "data": {
      "text/html": [
       "<div>\n",
       "<style scoped>\n",
       "    .dataframe tbody tr th:only-of-type {\n",
       "        vertical-align: middle;\n",
       "    }\n",
       "\n",
       "    .dataframe tbody tr th {\n",
       "        vertical-align: top;\n",
       "    }\n",
       "\n",
       "    .dataframe thead th {\n",
       "        text-align: right;\n",
       "    }\n",
       "</style>\n",
       "<table border=\"1\" class=\"dataframe\">\n",
       "  <thead>\n",
       "    <tr style=\"text-align: right;\">\n",
       "      <th></th>\n",
       "      <th>fixedacidity</th>\n",
       "      <th>volatileacidity</th>\n",
       "      <th>citricacid</th>\n",
       "      <th>residualsugar</th>\n",
       "      <th>chlorides</th>\n",
       "    </tr>\n",
       "  </thead>\n",
       "  <tbody>\n",
       "    <tr>\n",
       "      <th>fixedacidity</th>\n",
       "      <td>1.000000</td>\n",
       "      <td>-0.256131</td>\n",
       "      <td>0.671703</td>\n",
       "      <td>0.114777</td>\n",
       "      <td>0.093705</td>\n",
       "    </tr>\n",
       "    <tr>\n",
       "      <th>volatileacidity</th>\n",
       "      <td>-0.256131</td>\n",
       "      <td>1.000000</td>\n",
       "      <td>-0.552496</td>\n",
       "      <td>0.001918</td>\n",
       "      <td>0.061298</td>\n",
       "    </tr>\n",
       "    <tr>\n",
       "      <th>citricacid</th>\n",
       "      <td>0.671703</td>\n",
       "      <td>-0.552496</td>\n",
       "      <td>1.000000</td>\n",
       "      <td>0.143577</td>\n",
       "      <td>0.203823</td>\n",
       "    </tr>\n",
       "    <tr>\n",
       "      <th>residualsugar</th>\n",
       "      <td>0.114777</td>\n",
       "      <td>0.001918</td>\n",
       "      <td>0.143577</td>\n",
       "      <td>1.000000</td>\n",
       "      <td>0.055610</td>\n",
       "    </tr>\n",
       "    <tr>\n",
       "      <th>chlorides</th>\n",
       "      <td>0.093705</td>\n",
       "      <td>0.061298</td>\n",
       "      <td>0.203823</td>\n",
       "      <td>0.055610</td>\n",
       "      <td>1.000000</td>\n",
       "    </tr>\n",
       "  </tbody>\n",
       "</table>\n",
       "</div>"
      ],
      "text/plain": [
       "                 fixedacidity  volatileacidity  citricacid  residualsugar  \\\n",
       "fixedacidity         1.000000        -0.256131    0.671703       0.114777   \n",
       "volatileacidity     -0.256131         1.000000   -0.552496       0.001918   \n",
       "citricacid           0.671703        -0.552496    1.000000       0.143577   \n",
       "residualsugar        0.114777         0.001918    0.143577       1.000000   \n",
       "chlorides            0.093705         0.061298    0.203823       0.055610   \n",
       "\n",
       "                 chlorides  \n",
       "fixedacidity      0.093705  \n",
       "volatileacidity   0.061298  \n",
       "citricacid        0.203823  \n",
       "residualsugar     0.055610  \n",
       "chlorides         1.000000  "
      ]
     },
     "execution_count": 22,
     "metadata": {},
     "output_type": "execute_result"
    }
   ],
   "source": [
    "corr=df.corr()\n",
    "corr.iloc[0:5,0:5]"
   ]
  },
  {
   "cell_type": "code",
   "execution_count": 23,
   "id": "187042c1",
   "metadata": {
    "execution": {
     "iopub.execute_input": "2023-04-01T20:37:04.325603Z",
     "iopub.status.busy": "2023-04-01T20:37:04.325144Z",
     "iopub.status.idle": "2023-04-01T20:37:05.484294Z",
     "shell.execute_reply": "2023-04-01T20:37:05.483243Z"
    },
    "id": "feQ4HKLNsHxj",
    "outputId": "4e18fdd9-e6ed-4e72-9179-101c313b1973",
    "papermill": {
     "duration": 1.180061,
     "end_time": "2023-04-01T20:37:05.488084",
     "exception": false,
     "start_time": "2023-04-01T20:37:04.308023",
     "status": "completed"
    },
    "tags": []
   },
   "outputs": [
    {
     "data": {
      "text/plain": [
       "<AxesSubplot:>"
      ]
     },
     "execution_count": 23,
     "metadata": {},
     "output_type": "execute_result"
    },
    {
     "data": {
      "image/png": "[encoded data removed]",
      "text/plain": [
       "<Figure size 1080x500 with 2 Axes>"
      ]
     },
     "metadata": {},
     "output_type": "display_data"
    }
   ],
   "source": [
    "plt.figure(figsize=(10.8,5))\n",
    "sns.heatmap(corr,xticklabels=corr.columns.values,yticklabels=corr.columns.values,center=0,annot=True)"
   ]
  },
  {
   "cell_type": "markdown",
   "id": "1e8445d8",
   "metadata": {
    "id": "xx3n23-gv35X",
    "papermill": {
     "duration": 0.01739,
     "end_time": "2023-04-01T20:37:05.523239",
     "exception": false,
     "start_time": "2023-04-01T20:37:05.505849",
     "status": "completed"
    },
    "tags": []
   },
   "source": [
    "# SOME DATA VIZ."
   ]
  },
  {
   "cell_type": "code",
   "execution_count": 24,
   "id": "f9de832b",
   "metadata": {
    "execution": {
     "iopub.execute_input": "2023-04-01T20:37:05.560747Z",
     "iopub.status.busy": "2023-04-01T20:37:05.559549Z",
     "iopub.status.idle": "2023-04-01T20:37:06.014334Z",
     "shell.execute_reply": "2023-04-01T20:37:06.013069Z"
    },
    "id": "ma7S2VeUv7bq",
    "outputId": "391fdaf7-0857-4faf-8457-e7b62bd1381e",
    "papermill": {
     "duration": 0.476413,
     "end_time": "2023-04-01T20:37:06.017058",
     "exception": false,
     "start_time": "2023-04-01T20:37:05.540645",
     "status": "completed"
    },
    "tags": []
   },
   "outputs": [
    {
     "name": "stderr",
     "output_type": "stream",
     "text": [
      "/opt/conda/lib/python3.7/site-packages/ipykernel_launcher.py:3: FutureWarning: Passing `palette` without assigning `hue` is deprecated.\n",
      "  This is separate from the ipykernel package so we can avoid doing imports until\n"
     ]
    },
    {
     "data": {
      "text/plain": [
       "Text(0.5, 1.0, 'Quality/volatileacidity')"
      ]
     },
     "execution_count": 24,
     "metadata": {},
     "output_type": "execute_result"
    },
    {
     "data": {
      "image/png": "[encoded data removed]",
      "text/plain": [
       "<Figure size 1080x500 with 2 Axes>"
      ]
     },
     "metadata": {},
     "output_type": "display_data"
    }
   ],
   "source": [
    "plt.figure(figsize=(10.8,5))\n",
    "plt.subplot(1,2,1)\n",
    "sns.stripplot(x='quality',y='fixedacidity',data=df,palette='YlGnBu')\n",
    "plt.title('Quality/fixedacidity')\n",
    "\n",
    "plt.subplot(1,2,2)\n",
    "sns.barplot(x='quality',y='volatileacidity',data=df,palette='YlGnBu')\n",
    "plt.title('Quality/volatileacidity')"
   ]
  },
  {
   "cell_type": "code",
   "execution_count": 25,
   "id": "5d771091",
   "metadata": {
    "execution": {
     "iopub.execute_input": "2023-04-01T20:37:06.055898Z",
     "iopub.status.busy": "2023-04-01T20:37:06.055441Z",
     "iopub.status.idle": "2023-04-01T20:37:06.511474Z",
     "shell.execute_reply": "2023-04-01T20:37:06.510082Z"
    },
    "id": "3Oe47BgqxO4N",
    "outputId": "c792aca5-84cd-4a1b-c29d-de158770b9c6",
    "papermill": {
     "duration": 0.47867,
     "end_time": "2023-04-01T20:37:06.514229",
     "exception": false,
     "start_time": "2023-04-01T20:37:06.035559",
     "status": "completed"
    },
    "tags": []
   },
   "outputs": [
    {
     "name": "stderr",
     "output_type": "stream",
     "text": [
      "/opt/conda/lib/python3.7/site-packages/ipykernel_launcher.py:3: FutureWarning: Passing `palette` without assigning `hue` is deprecated.\n",
      "  This is separate from the ipykernel package so we can avoid doing imports until\n"
     ]
    },
    {
     "data": {
      "text/plain": [
       "Text(0.5, 1.0, 'Quality/residualsugar')"
      ]
     },
     "execution_count": 25,
     "metadata": {},
     "output_type": "execute_result"
    },
    {
     "data": {
      "image/png": "[encoded data removed]",
      "text/plain": [
       "<Figure size 1080x500 with 2 Axes>"
      ]
     },
     "metadata": {},
     "output_type": "display_data"
    }
   ],
   "source": [
    "plt.figure(figsize=(10.8,5))\n",
    "plt.subplot(1,2,1)\n",
    "sns.stripplot(x='quality',y='citricacid',data=df,palette='YlGnBu')\n",
    "plt.title('Quality/citricacid')\n",
    "\n",
    "plt.subplot(1,2,2)\n",
    "sns.barplot(x='quality',y='residualsugar',data=df,palette='YlGnBu')\n",
    "plt.title('Quality/residualsugar')"
   ]
  },
  {
   "cell_type": "code",
   "execution_count": 26,
   "id": "0fb222c6",
   "metadata": {
    "execution": {
     "iopub.execute_input": "2023-04-01T20:37:06.557225Z",
     "iopub.status.busy": "2023-04-01T20:37:06.556711Z",
     "iopub.status.idle": "2023-04-01T20:37:07.198583Z",
     "shell.execute_reply": "2023-04-01T20:37:07.197173Z"
    },
    "id": "gepi-xUezOGK",
    "outputId": "97789136-1572-4f57-cb04-55581999a38f",
    "papermill": {
     "duration": 0.66666,
     "end_time": "2023-04-01T20:37:07.201736",
     "exception": false,
     "start_time": "2023-04-01T20:37:06.535076",
     "status": "completed"
    },
    "tags": []
   },
   "outputs": [
    {
     "name": "stderr",
     "output_type": "stream",
     "text": [
      "/opt/conda/lib/python3.7/site-packages/ipykernel_launcher.py:4: FutureWarning: Passing `palette` without assigning `hue` is deprecated.\n",
      "  after removing the cwd from sys.path.\n",
      "/opt/conda/lib/python3.7/site-packages/ipykernel_launcher.py:8: FutureWarning: Passing `palette` without assigning `hue` is deprecated.\n",
      "  \n",
      "/opt/conda/lib/python3.7/site-packages/ipykernel_launcher.py:13: FutureWarning: Passing `palette` without assigning `hue` is deprecated.\n",
      "  del sys.path[0]\n"
     ]
    },
    {
     "data": {
      "text/plain": [
       "Text(0.5, 1.0, 'Quality/alcohol')"
      ]
     },
     "execution_count": 26,
     "metadata": {},
     "output_type": "execute_result"
    },
    {
     "data": {
      "image/png": "[encoded data removed]",
      "text/plain": [
       "<Figure size 1080x500 with 3 Axes>"
      ]
     },
     "metadata": {},
     "output_type": "display_data"
    }
   ],
   "source": [
    "plt.figure(figsize=(10.8,5))\n",
    "\n",
    "plt.subplot(1,3,1)\n",
    "sns.stripplot(x='quality',y='chlorides',data=df,palette='YlGnBu')\n",
    "plt.title('Quality/chlorides')\n",
    "\n",
    "plt.subplot(1,3,2)\n",
    "sns.stripplot(x='quality',y='density',data=df,palette='YlGnBu')\n",
    "plt.title('Quality/density')\n",
    "\n",
    "\n",
    "plt.subplot(1,3,3)\n",
    "sns.stripplot(x='quality',y='alcohol',data=df,palette='YlGnBu')\n",
    "plt.title('Quality/alcohol')\n",
    "\n"
   ]
  },
  {
   "cell_type": "markdown",
   "id": "74de8921",
   "metadata": {
    "id": "As6KRj8E2T8W",
    "papermill": {
     "duration": 0.021264,
     "end_time": "2023-04-01T20:37:07.246636",
     "exception": false,
     "start_time": "2023-04-01T20:37:07.225372",
     "status": "completed"
    },
    "tags": []
   },
   "source": [
    "# SELECTION BEST FEATURE"
   ]
  },
  {
   "cell_type": "code",
   "execution_count": 27,
   "id": "c5d1be8d",
   "metadata": {
    "execution": {
     "iopub.execute_input": "2023-04-01T20:37:07.292064Z",
     "iopub.status.busy": "2023-04-01T20:37:07.291500Z",
     "iopub.status.idle": "2023-04-01T20:37:07.297045Z",
     "shell.execute_reply": "2023-04-01T20:37:07.295676Z"
    },
    "id": "1lHtEJBb1tXi",
    "papermill": {
     "duration": 0.031191,
     "end_time": "2023-04-01T20:37:07.299461",
     "exception": false,
     "start_time": "2023-04-01T20:37:07.268270",
     "status": "completed"
    },
    "tags": []
   },
   "outputs": [],
   "source": [
    "itens_to_remove=['totalsulfurdioxide','pH','sulphates','freesulfurdioxide']\n"
   ]
  },
  {
   "cell_type": "code",
   "execution_count": 28,
   "id": "217b36a0",
   "metadata": {
    "execution": {
     "iopub.execute_input": "2023-04-01T20:37:07.344764Z",
     "iopub.status.busy": "2023-04-01T20:37:07.344345Z",
     "iopub.status.idle": "2023-04-01T20:37:07.350394Z",
     "shell.execute_reply": "2023-04-01T20:37:07.349485Z"
    },
    "id": "vQBUxnmd3WEb",
    "outputId": "a5374d7c-3e42-4977-d9c8-daada7e7bccc",
    "papermill": {
     "duration": 0.031546,
     "end_time": "2023-04-01T20:37:07.352502",
     "exception": false,
     "start_time": "2023-04-01T20:37:07.320956",
     "status": "completed"
    },
    "tags": []
   },
   "outputs": [
    {
     "data": {
      "text/plain": [
       "['fixedacidity',\n",
       " 'volatileacidity',\n",
       " 'citricacid',\n",
       " 'residualsugar',\n",
       " 'chlorides',\n",
       " 'freesulfurdioxide',\n",
       " 'totalsulfurdioxide',\n",
       " 'density',\n",
       " 'pH',\n",
       " 'sulphates',\n",
       " 'alcohol',\n",
       " 'quality']"
      ]
     },
     "execution_count": 28,
     "metadata": {},
     "output_type": "execute_result"
    }
   ],
   "source": [
    "feature=df.columns.tolist()\n",
    "feature"
   ]
  },
  {
   "cell_type": "code",
   "execution_count": 29,
   "id": "5b6bef8c",
   "metadata": {
    "execution": {
     "iopub.execute_input": "2023-04-01T20:37:07.398765Z",
     "iopub.status.busy": "2023-04-01T20:37:07.398061Z",
     "iopub.status.idle": "2023-04-01T20:37:07.402846Z",
     "shell.execute_reply": "2023-04-01T20:37:07.401962Z"
    },
    "id": "PGyC5K7D3bA2",
    "papermill": {
     "duration": 0.03044,
     "end_time": "2023-04-01T20:37:07.405150",
     "exception": false,
     "start_time": "2023-04-01T20:37:07.374710",
     "status": "completed"
    },
    "tags": []
   },
   "outputs": [],
   "source": [
    "feature=[item for item in feature if item not in itens_to_remove]"
   ]
  },
  {
   "cell_type": "code",
   "execution_count": 30,
   "id": "b994a9ae",
   "metadata": {
    "execution": {
     "iopub.execute_input": "2023-04-01T20:37:07.450628Z",
     "iopub.status.busy": "2023-04-01T20:37:07.449947Z",
     "iopub.status.idle": "2023-04-01T20:37:07.455691Z",
     "shell.execute_reply": "2023-04-01T20:37:07.454883Z"
    },
    "id": "kXYxaxNN41zc",
    "outputId": "c52bf73c-4f74-472b-8e22-b4568c899a82",
    "papermill": {
     "duration": 0.031092,
     "end_time": "2023-04-01T20:37:07.458053",
     "exception": false,
     "start_time": "2023-04-01T20:37:07.426961",
     "status": "completed"
    },
    "tags": []
   },
   "outputs": [
    {
     "data": {
      "text/plain": [
       "['fixedacidity',\n",
       " 'volatileacidity',\n",
       " 'citricacid',\n",
       " 'residualsugar',\n",
       " 'chlorides',\n",
       " 'density',\n",
       " 'alcohol',\n",
       " 'quality']"
      ]
     },
     "execution_count": 30,
     "metadata": {},
     "output_type": "execute_result"
    }
   ],
   "source": [
    "feature"
   ]
  },
  {
   "cell_type": "code",
   "execution_count": 31,
   "id": "08f6e445",
   "metadata": {
    "execution": {
     "iopub.execute_input": "2023-04-01T20:37:07.503595Z",
     "iopub.status.busy": "2023-04-01T20:37:07.502699Z",
     "iopub.status.idle": "2023-04-01T20:37:07.512092Z",
     "shell.execute_reply": "2023-04-01T20:37:07.510689Z"
    },
    "id": "NJ-FyqNh5Qg4",
    "outputId": "2cf810a4-16fc-4fe1-a4dd-254e277183a4",
    "papermill": {
     "duration": 0.035251,
     "end_time": "2023-04-01T20:37:07.514806",
     "exception": false,
     "start_time": "2023-04-01T20:37:07.479555",
     "status": "completed"
    },
    "tags": []
   },
   "outputs": [
    {
     "name": "stdout",
     "output_type": "stream",
     "text": [
      "(1599, 7) (1599,)\n"
     ]
    }
   ],
   "source": [
    "X=df[feature].iloc[:,:-1].values\n",
    "y=df[feature].iloc[:,-1].values\n",
    "\n",
    "print(X.shape,y.shape)"
   ]
  },
  {
   "cell_type": "code",
   "execution_count": 32,
   "id": "6942f2a4",
   "metadata": {
    "execution": {
     "iopub.execute_input": "2023-04-01T20:37:07.561229Z",
     "iopub.status.busy": "2023-04-01T20:37:07.560093Z",
     "iopub.status.idle": "2023-04-01T20:37:07.566417Z",
     "shell.execute_reply": "2023-04-01T20:37:07.565155Z"
    },
    "id": "YIS54TAE5nn8",
    "papermill": {
     "duration": 0.031971,
     "end_time": "2023-04-01T20:37:07.568804",
     "exception": false,
     "start_time": "2023-04-01T20:37:07.536833",
     "status": "completed"
    },
    "tags": []
   },
   "outputs": [],
   "source": [
    "[f_stat,_p_value]=f_classif(X,y)"
   ]
  },
  {
   "cell_type": "code",
   "execution_count": 33,
   "id": "6d9d912f",
   "metadata": {
    "execution": {
     "iopub.execute_input": "2023-04-01T20:37:07.614818Z",
     "iopub.status.busy": "2023-04-01T20:37:07.613703Z",
     "iopub.status.idle": "2023-04-01T20:37:07.619993Z",
     "shell.execute_reply": "2023-04-01T20:37:07.619085Z"
    },
    "id": "ntRP6-Pc5tGA",
    "papermill": {
     "duration": 0.031622,
     "end_time": "2023-04-01T20:37:07.622318",
     "exception": false,
     "start_time": "2023-04-01T20:37:07.590696",
     "status": "completed"
    },
    "tags": []
   },
   "outputs": [],
   "source": [
    "data=pd.DataFrame({'Features':feature[:-1],'Static':f_stat,'P_value':_p_value})"
   ]
  },
  {
   "cell_type": "code",
   "execution_count": 34,
   "id": "b820ae50",
   "metadata": {
    "execution": {
     "iopub.execute_input": "2023-04-01T20:37:07.670211Z",
     "iopub.status.busy": "2023-04-01T20:37:07.669496Z",
     "iopub.status.idle": "2023-04-01T20:37:07.682794Z",
     "shell.execute_reply": "2023-04-01T20:37:07.681118Z"
    },
    "id": "S-tXJsPF6O8v",
    "outputId": "30a03bdd-47b1-4c0c-a8af-789c9a778767",
    "papermill": {
     "duration": 0.040286,
     "end_time": "2023-04-01T20:37:07.685170",
     "exception": false,
     "start_time": "2023-04-01T20:37:07.644884",
     "status": "completed"
    },
    "tags": []
   },
   "outputs": [
    {
     "data": {
      "text/html": [
       "<div>\n",
       "<style scoped>\n",
       "    .dataframe tbody tr th:only-of-type {\n",
       "        vertical-align: middle;\n",
       "    }\n",
       "\n",
       "    .dataframe tbody tr th {\n",
       "        vertical-align: top;\n",
       "    }\n",
       "\n",
       "    .dataframe thead th {\n",
       "        text-align: right;\n",
       "    }\n",
       "</style>\n",
       "<table border=\"1\" class=\"dataframe\">\n",
       "  <thead>\n",
       "    <tr style=\"text-align: right;\">\n",
       "      <th></th>\n",
       "      <th>Features</th>\n",
       "      <th>Static</th>\n",
       "      <th>P_value</th>\n",
       "    </tr>\n",
       "  </thead>\n",
       "  <tbody>\n",
       "    <tr>\n",
       "      <th>6</th>\n",
       "      <td>alcohol</td>\n",
       "      <td>317.650903</td>\n",
       "      <td>6.016774e-65</td>\n",
       "    </tr>\n",
       "    <tr>\n",
       "      <th>1</th>\n",
       "      <td>volatileacidity</td>\n",
       "      <td>126.290916</td>\n",
       "      <td>2.957863e-28</td>\n",
       "    </tr>\n",
       "    <tr>\n",
       "      <th>2</th>\n",
       "      <td>citricacid</td>\n",
       "      <td>77.184567</td>\n",
       "      <td>3.934780e-18</td>\n",
       "    </tr>\n",
       "    <tr>\n",
       "      <th>5</th>\n",
       "      <td>density</td>\n",
       "      <td>36.990465</td>\n",
       "      <td>1.482554e-09</td>\n",
       "    </tr>\n",
       "    <tr>\n",
       "      <th>0</th>\n",
       "      <td>fixedacidity</td>\n",
       "      <td>23.356885</td>\n",
       "      <td>1.474869e-06</td>\n",
       "    </tr>\n",
       "    <tr>\n",
       "      <th>4</th>\n",
       "      <td>chlorides</td>\n",
       "      <td>15.266188</td>\n",
       "      <td>9.727196e-05</td>\n",
       "    </tr>\n",
       "    <tr>\n",
       "      <th>3</th>\n",
       "      <td>residualsugar</td>\n",
       "      <td>3.654017</td>\n",
       "      <td>5.611296e-02</td>\n",
       "    </tr>\n",
       "  </tbody>\n",
       "</table>\n",
       "</div>"
      ],
      "text/plain": [
       "          Features      Static       P_value\n",
       "6          alcohol  317.650903  6.016774e-65\n",
       "1  volatileacidity  126.290916  2.957863e-28\n",
       "2       citricacid   77.184567  3.934780e-18\n",
       "5          density   36.990465  1.482554e-09\n",
       "0     fixedacidity   23.356885  1.474869e-06\n",
       "4        chlorides   15.266188  9.727196e-05\n",
       "3    residualsugar    3.654017  5.611296e-02"
      ]
     },
     "execution_count": 34,
     "metadata": {},
     "output_type": "execute_result"
    }
   ],
   "source": [
    "data[['Features','Static','P_value']].sort_values(by='Static',ascending=False)"
   ]
  },
  {
   "cell_type": "code",
   "execution_count": 35,
   "id": "dff42111",
   "metadata": {
    "execution": {
     "iopub.execute_input": "2023-04-01T20:37:07.735147Z",
     "iopub.status.busy": "2023-04-01T20:37:07.734217Z",
     "iopub.status.idle": "2023-04-01T20:37:07.739017Z",
     "shell.execute_reply": "2023-04-01T20:37:07.738116Z"
    },
    "id": "oemJu9T467jC",
    "papermill": {
     "duration": 0.031107,
     "end_time": "2023-04-01T20:37:07.741205",
     "exception": false,
     "start_time": "2023-04-01T20:37:07.710098",
     "status": "completed"
    },
    "tags": []
   },
   "outputs": [],
   "source": [
    "selector=SelectPercentile(f_classif,percentile=50)"
   ]
  },
  {
   "cell_type": "code",
   "execution_count": 36,
   "id": "a76907d4",
   "metadata": {
    "execution": {
     "iopub.execute_input": "2023-04-01T20:37:07.790652Z",
     "iopub.status.busy": "2023-04-01T20:37:07.789836Z",
     "iopub.status.idle": "2023-04-01T20:37:07.802337Z",
     "shell.execute_reply": "2023-04-01T20:37:07.801222Z"
    },
    "id": "-mSsrBAg7Gll",
    "outputId": "3f6aec1d-7247-4c36-8781-da2e8c122927",
    "papermill": {
     "duration": 0.040756,
     "end_time": "2023-04-01T20:37:07.804994",
     "exception": false,
     "start_time": "2023-04-01T20:37:07.764238",
     "status": "completed"
    },
    "tags": []
   },
   "outputs": [
    {
     "data": {
      "text/plain": [
       "SelectPercentile(percentile=50)"
      ]
     },
     "execution_count": 36,
     "metadata": {},
     "output_type": "execute_result"
    }
   ],
   "source": [
    "selector.fit(X,y)"
   ]
  },
  {
   "cell_type": "code",
   "execution_count": 37,
   "id": "7ea6dbe9",
   "metadata": {
    "execution": {
     "iopub.execute_input": "2023-04-01T20:37:07.853577Z",
     "iopub.status.busy": "2023-04-01T20:37:07.853094Z",
     "iopub.status.idle": "2023-04-01T20:37:07.859823Z",
     "shell.execute_reply": "2023-04-01T20:37:07.858517Z"
    },
    "id": "gk3XoFwp7Npq",
    "papermill": {
     "duration": 0.033947,
     "end_time": "2023-04-01T20:37:07.862478",
     "exception": false,
     "start_time": "2023-04-01T20:37:07.828531",
     "status": "completed"
    },
    "tags": []
   },
   "outputs": [],
   "source": [
    "best_itrx=selector.get_support()"
   ]
  },
  {
   "cell_type": "code",
   "execution_count": 38,
   "id": "dba44dab",
   "metadata": {
    "execution": {
     "iopub.execute_input": "2023-04-01T20:37:07.910260Z",
     "iopub.status.busy": "2023-04-01T20:37:07.909781Z",
     "iopub.status.idle": "2023-04-01T20:37:07.917017Z",
     "shell.execute_reply": "2023-04-01T20:37:07.915893Z"
    },
    "id": "mvq36CAO7ZOT",
    "outputId": "89cfc2d0-5e13-46cb-9dd7-681b28c664f5",
    "papermill": {
     "duration": 0.034423,
     "end_time": "2023-04-01T20:37:07.919459",
     "exception": false,
     "start_time": "2023-04-01T20:37:07.885036",
     "status": "completed"
    },
    "tags": []
   },
   "outputs": [
    {
     "data": {
      "text/plain": [
       "array([False,  True,  True, False, False, False,  True])"
      ]
     },
     "execution_count": 38,
     "metadata": {},
     "output_type": "execute_result"
    }
   ],
   "source": [
    "best_itrx"
   ]
  },
  {
   "cell_type": "code",
   "execution_count": 39,
   "id": "0d11976a",
   "metadata": {
    "execution": {
     "iopub.execute_input": "2023-04-01T20:37:07.967082Z",
     "iopub.status.busy": "2023-04-01T20:37:07.966579Z",
     "iopub.status.idle": "2023-04-01T20:37:07.972268Z",
     "shell.execute_reply": "2023-04-01T20:37:07.970886Z"
    },
    "id": "1Otn3QuS8psJ",
    "papermill": {
     "duration": 0.032257,
     "end_time": "2023-04-01T20:37:07.974620",
     "exception": false,
     "start_time": "2023-04-01T20:37:07.942363",
     "status": "completed"
    },
    "tags": []
   },
   "outputs": [],
   "source": [
    "features=feature[:-1]"
   ]
  },
  {
   "cell_type": "code",
   "execution_count": 40,
   "id": "7ecba1fd",
   "metadata": {
    "execution": {
     "iopub.execute_input": "2023-04-01T20:37:08.022345Z",
     "iopub.status.busy": "2023-04-01T20:37:08.021878Z",
     "iopub.status.idle": "2023-04-01T20:37:08.027808Z",
     "shell.execute_reply": "2023-04-01T20:37:08.026361Z"
    },
    "id": "OQ4al6Qc7Tez",
    "papermill": {
     "duration": 0.033182,
     "end_time": "2023-04-01T20:37:08.030440",
     "exception": false,
     "start_time": "2023-04-01T20:37:07.997258",
     "status": "completed"
    },
    "tags": []
   },
   "outputs": [],
   "source": [
    "best_feature=[features[counter] for counter in range(len(features)) if best_itrx[counter]]"
   ]
  },
  {
   "cell_type": "code",
   "execution_count": 41,
   "id": "bea5ccd0",
   "metadata": {
    "execution": {
     "iopub.execute_input": "2023-04-01T20:37:08.078125Z",
     "iopub.status.busy": "2023-04-01T20:37:08.077660Z",
     "iopub.status.idle": "2023-04-01T20:37:08.084807Z",
     "shell.execute_reply": "2023-04-01T20:37:08.083705Z"
    },
    "id": "MIK4gQv480sU",
    "outputId": "ac2783b4-b36f-4a78-c382-b3690c15cef0",
    "papermill": {
     "duration": 0.033724,
     "end_time": "2023-04-01T20:37:08.087165",
     "exception": false,
     "start_time": "2023-04-01T20:37:08.053441",
     "status": "completed"
    },
    "tags": []
   },
   "outputs": [
    {
     "data": {
      "text/plain": [
       "['volatileacidity', 'citricacid', 'alcohol']"
      ]
     },
     "execution_count": 41,
     "metadata": {},
     "output_type": "execute_result"
    }
   ],
   "source": [
    "best_feature"
   ]
  },
  {
   "cell_type": "code",
   "execution_count": 42,
   "id": "6f49aeee",
   "metadata": {
    "execution": {
     "iopub.execute_input": "2023-04-01T20:37:08.134748Z",
     "iopub.status.busy": "2023-04-01T20:37:08.134271Z",
     "iopub.status.idle": "2023-04-01T20:37:08.139918Z",
     "shell.execute_reply": "2023-04-01T20:37:08.138777Z"
    },
    "id": "UcSijTF79M7A",
    "papermill": {
     "duration": 0.032287,
     "end_time": "2023-04-01T20:37:08.142133",
     "exception": false,
     "start_time": "2023-04-01T20:37:08.109846",
     "status": "completed"
    },
    "tags": []
   },
   "outputs": [],
   "source": [
    "C_vals_exponent=np.linspace(-3,3,13)"
   ]
  },
  {
   "cell_type": "code",
   "execution_count": 43,
   "id": "04d426d4",
   "metadata": {
    "execution": {
     "iopub.execute_input": "2023-04-01T20:37:08.190203Z",
     "iopub.status.busy": "2023-04-01T20:37:08.189749Z",
     "iopub.status.idle": "2023-04-01T20:37:08.198735Z",
     "shell.execute_reply": "2023-04-01T20:37:08.197476Z"
    },
    "id": "NNq-ybL-9Riq",
    "outputId": "1169162c-021d-4767-831a-605efb7dde3f",
    "papermill": {
     "duration": 0.036218,
     "end_time": "2023-04-01T20:37:08.201180",
     "exception": false,
     "start_time": "2023-04-01T20:37:08.164962",
     "status": "completed"
    },
    "tags": []
   },
   "outputs": [
    {
     "name": "stderr",
     "output_type": "stream",
     "text": [
      "/opt/conda/lib/python3.7/site-packages/ipykernel_launcher.py:1: DeprecationWarning: `np.float` is a deprecated alias for the builtin `float`. To silence this warning, use `float` by itself. Doing this will not modify any behavior and is safe. If you specifically wanted the numpy scalar type, use `np.float64` here.\n",
      "Deprecated in NumPy 1.20; for more details and guidance: https://numpy.org/devdocs/release/1.20.0-notes.html#deprecations\n",
      "  \"\"\"Entry point for launching an IPython kernel.\n"
     ]
    },
    {
     "data": {
      "text/plain": [
       "array([1.00000000e-03, 3.16227766e-03, 1.00000000e-02, 3.16227766e-02,\n",
       "       1.00000000e-01, 3.16227766e-01, 1.00000000e+00, 3.16227766e+00,\n",
       "       1.00000000e+01, 3.16227766e+01, 1.00000000e+02, 3.16227766e+02,\n",
       "       1.00000000e+03])"
      ]
     },
     "execution_count": 43,
     "metadata": {},
     "output_type": "execute_result"
    }
   ],
   "source": [
    "C_vals=np.float(10)**C_vals_exponent\n",
    "C_vals"
   ]
  },
  {
   "cell_type": "code",
   "execution_count": 44,
   "id": "7c223e8b",
   "metadata": {
    "execution": {
     "iopub.execute_input": "2023-04-01T20:37:08.249186Z",
     "iopub.status.busy": "2023-04-01T20:37:08.248301Z",
     "iopub.status.idle": "2023-04-01T20:37:08.254366Z",
     "shell.execute_reply": "2023-04-01T20:37:08.253129Z"
    },
    "id": "vh02cBNG9Z4f",
    "papermill": {
     "duration": 0.032663,
     "end_time": "2023-04-01T20:37:08.256613",
     "exception": false,
     "start_time": "2023-04-01T20:37:08.223950",
     "status": "completed"
    },
    "tags": []
   },
   "outputs": [],
   "source": [
    "Alist=[]\n",
    "for cv_counter in range(len(C_vals)):\n",
    "  Alist.append(cv_counter)\n",
    "\n"
   ]
  },
  {
   "cell_type": "code",
   "execution_count": 45,
   "id": "a9240eaa",
   "metadata": {
    "execution": {
     "iopub.execute_input": "2023-04-01T20:37:08.304636Z",
     "iopub.status.busy": "2023-04-01T20:37:08.304154Z",
     "iopub.status.idle": "2023-04-01T20:37:08.309525Z",
     "shell.execute_reply": "2023-04-01T20:37:08.308514Z"
    },
    "id": "7VTb4VeJ-Nn8",
    "papermill": {
     "duration": 0.03207,
     "end_time": "2023-04-01T20:37:08.311844",
     "exception": false,
     "start_time": "2023-04-01T20:37:08.279774",
     "status": "completed"
    },
    "tags": []
   },
   "outputs": [],
   "source": [
    "j=random.choice(Alist)"
   ]
  },
  {
   "cell_type": "code",
   "execution_count": 46,
   "id": "b9377c06",
   "metadata": {
    "execution": {
     "iopub.execute_input": "2023-04-01T20:37:08.361047Z",
     "iopub.status.busy": "2023-04-01T20:37:08.360566Z",
     "iopub.status.idle": "2023-04-01T20:37:08.367921Z",
     "shell.execute_reply": "2023-04-01T20:37:08.366763Z"
    },
    "id": "l8iGVW0M_y-6",
    "outputId": "fa73e2f4-898a-4581-d436-0822151704db",
    "papermill": {
     "duration": 0.034677,
     "end_time": "2023-04-01T20:37:08.370164",
     "exception": false,
     "start_time": "2023-04-01T20:37:08.335487",
     "status": "completed"
    },
    "tags": []
   },
   "outputs": [
    {
     "data": {
      "text/plain": [
       "12"
      ]
     },
     "execution_count": 46,
     "metadata": {},
     "output_type": "execute_result"
    }
   ],
   "source": [
    "j"
   ]
  },
  {
   "cell_type": "code",
   "execution_count": 47,
   "id": "406b3627",
   "metadata": {
    "execution": {
     "iopub.execute_input": "2023-04-01T20:37:08.419754Z",
     "iopub.status.busy": "2023-04-01T20:37:08.419304Z",
     "iopub.status.idle": "2023-04-01T20:37:08.424774Z",
     "shell.execute_reply": "2023-04-01T20:37:08.423856Z"
    },
    "id": "RAfvLvT09FSK",
    "papermill": {
     "duration": 0.033716,
     "end_time": "2023-04-01T20:37:08.427135",
     "exception": false,
     "start_time": "2023-04-01T20:37:08.393419",
     "status": "completed"
    },
    "tags": []
   },
   "outputs": [],
   "source": [
    "model_x=LogisticRegression(solver='saga',penalty='l1',max_iter=1000,C=j)"
   ]
  },
  {
   "cell_type": "code",
   "execution_count": 48,
   "id": "8beff223",
   "metadata": {
    "execution": {
     "iopub.execute_input": "2023-04-01T20:37:08.475649Z",
     "iopub.status.busy": "2023-04-01T20:37:08.475201Z",
     "iopub.status.idle": "2023-04-01T20:37:08.482659Z",
     "shell.execute_reply": "2023-04-01T20:37:08.481492Z"
    },
    "id": "5mnX23O_AJPQ",
    "papermill": {
     "duration": 0.034796,
     "end_time": "2023-04-01T20:37:08.485161",
     "exception": false,
     "start_time": "2023-04-01T20:37:08.450365",
     "status": "completed"
    },
    "tags": []
   },
   "outputs": [],
   "source": [
    "X_train,X_test,y_train,y_test=train_test_split(df['volatileacidity'].values.reshape(-1,1),df['quality'].values,test_size=0.2,random_state=24)"
   ]
  },
  {
   "cell_type": "code",
   "execution_count": 49,
   "id": "20502dfa",
   "metadata": {
    "execution": {
     "iopub.execute_input": "2023-04-01T20:37:08.536044Z",
     "iopub.status.busy": "2023-04-01T20:37:08.534635Z",
     "iopub.status.idle": "2023-04-01T20:37:08.542709Z",
     "shell.execute_reply": "2023-04-01T20:37:08.541686Z"
    },
    "id": "OCeofd5aAn9Q",
    "outputId": "bce34e62-d91c-4407-a16a-cbeda8ca9cc7",
    "papermill": {
     "duration": 0.036019,
     "end_time": "2023-04-01T20:37:08.545167",
     "exception": false,
     "start_time": "2023-04-01T20:37:08.509148",
     "status": "completed"
    },
    "tags": []
   },
   "outputs": [
    {
     "data": {
      "text/plain": [
       "0.1357098186366479"
      ]
     },
     "execution_count": 49,
     "metadata": {},
     "output_type": "execute_result"
    }
   ],
   "source": [
    "df['quality'].mean()"
   ]
  },
  {
   "cell_type": "code",
   "execution_count": 50,
   "id": "a6636837",
   "metadata": {
    "execution": {
     "iopub.execute_input": "2023-04-01T20:37:08.594213Z",
     "iopub.status.busy": "2023-04-01T20:37:08.593730Z",
     "iopub.status.idle": "2023-04-01T20:37:08.600562Z",
     "shell.execute_reply": "2023-04-01T20:37:08.599741Z"
    },
    "id": "BoKbpXoiAubp",
    "outputId": "0f7f49d9-29bc-47a9-d521-b23cfa28a425",
    "papermill": {
     "duration": 0.034105,
     "end_time": "2023-04-01T20:37:08.603034",
     "exception": false,
     "start_time": "2023-04-01T20:37:08.568929",
     "status": "completed"
    },
    "tags": []
   },
   "outputs": [
    {
     "data": {
      "text/plain": [
       "0.1344800625488663"
      ]
     },
     "execution_count": 50,
     "metadata": {},
     "output_type": "execute_result"
    }
   ],
   "source": [
    "np.mean(y_test)\n",
    "np.mean(y_train)"
   ]
  },
  {
   "cell_type": "code",
   "execution_count": 51,
   "id": "48dafd9c",
   "metadata": {
    "execution": {
     "iopub.execute_input": "2023-04-01T20:37:08.653837Z",
     "iopub.status.busy": "2023-04-01T20:37:08.653363Z",
     "iopub.status.idle": "2023-04-01T20:37:08.663801Z",
     "shell.execute_reply": "2023-04-01T20:37:08.662654Z"
    },
    "id": "qNjga-OkA2fv",
    "outputId": "645802ce-78e5-4edc-fd80-abd0b5616b7e",
    "papermill": {
     "duration": 0.038235,
     "end_time": "2023-04-01T20:37:08.666157",
     "exception": false,
     "start_time": "2023-04-01T20:37:08.627922",
     "status": "completed"
    },
    "tags": []
   },
   "outputs": [
    {
     "data": {
      "text/plain": [
       "LogisticRegression(C=12, max_iter=1000, penalty='l1', solver='saga')"
      ]
     },
     "execution_count": 51,
     "metadata": {},
     "output_type": "execute_result"
    }
   ],
   "source": [
    "model_x.fit(X_train,y_train)"
   ]
  },
  {
   "cell_type": "code",
   "execution_count": 52,
   "id": "d0f0154f",
   "metadata": {
    "execution": {
     "iopub.execute_input": "2023-04-01T20:37:08.716387Z",
     "iopub.status.busy": "2023-04-01T20:37:08.715941Z",
     "iopub.status.idle": "2023-04-01T20:37:08.721306Z",
     "shell.execute_reply": "2023-04-01T20:37:08.720212Z"
    },
    "id": "MFDn6d2oBDFY",
    "papermill": {
     "duration": 0.033095,
     "end_time": "2023-04-01T20:37:08.723590",
     "exception": false,
     "start_time": "2023-04-01T20:37:08.690495",
     "status": "completed"
    },
    "tags": []
   },
   "outputs": [],
   "source": [
    "y_pred=model_x.predict(X_test)"
   ]
  },
  {
   "cell_type": "code",
   "execution_count": 53,
   "id": "686cf1f3",
   "metadata": {
    "execution": {
     "iopub.execute_input": "2023-04-01T20:37:08.772805Z",
     "iopub.status.busy": "2023-04-01T20:37:08.772345Z",
     "iopub.status.idle": "2023-04-01T20:37:08.777432Z",
     "shell.execute_reply": "2023-04-01T20:37:08.776290Z"
    },
    "id": "9myeDoQfBTZw",
    "papermill": {
     "duration": 0.032361,
     "end_time": "2023-04-01T20:37:08.779699",
     "exception": false,
     "start_time": "2023-04-01T20:37:08.747338",
     "status": "completed"
    },
    "tags": []
   },
   "outputs": [],
   "source": [
    "is_correct=y_pred==y_test"
   ]
  },
  {
   "cell_type": "code",
   "execution_count": 54,
   "id": "3e7b4bac",
   "metadata": {
    "execution": {
     "iopub.execute_input": "2023-04-01T20:37:08.829039Z",
     "iopub.status.busy": "2023-04-01T20:37:08.828553Z",
     "iopub.status.idle": "2023-04-01T20:37:08.835976Z",
     "shell.execute_reply": "2023-04-01T20:37:08.834855Z"
    },
    "id": "kLXlRhsYBW8A",
    "outputId": "8d283166-b14c-4fc7-86b4-2f8e4a4e699b",
    "papermill": {
     "duration": 0.034687,
     "end_time": "2023-04-01T20:37:08.838188",
     "exception": false,
     "start_time": "2023-04-01T20:37:08.803501",
     "status": "completed"
    },
    "tags": []
   },
   "outputs": [
    {
     "data": {
      "text/plain": [
       "0.859375"
      ]
     },
     "execution_count": 54,
     "metadata": {},
     "output_type": "execute_result"
    }
   ],
   "source": [
    "np.mean(is_correct)"
   ]
  },
  {
   "cell_type": "code",
   "execution_count": 55,
   "id": "4c8c10a5",
   "metadata": {
    "execution": {
     "iopub.execute_input": "2023-04-01T20:37:08.888263Z",
     "iopub.status.busy": "2023-04-01T20:37:08.887792Z",
     "iopub.status.idle": "2023-04-01T20:37:08.893486Z",
     "shell.execute_reply": "2023-04-01T20:37:08.892344Z"
    },
    "id": "FNPz5iFnBt5P",
    "papermill": {
     "duration": 0.033015,
     "end_time": "2023-04-01T20:37:08.895710",
     "exception": false,
     "start_time": "2023-04-01T20:37:08.862695",
     "status": "completed"
    },
    "tags": []
   },
   "outputs": [],
   "source": [
    "y_proba=model_x.predict_proba(X_test)"
   ]
  },
  {
   "cell_type": "code",
   "execution_count": 56,
   "id": "20e8ddfd",
   "metadata": {
    "execution": {
     "iopub.execute_input": "2023-04-01T20:37:08.946118Z",
     "iopub.status.busy": "2023-04-01T20:37:08.945685Z",
     "iopub.status.idle": "2023-04-01T20:37:08.955883Z",
     "shell.execute_reply": "2023-04-01T20:37:08.954617Z"
    },
    "id": "PYIEVYV7CERh",
    "outputId": "f6fdd6b6-f8b2-4b9b-9713-161cf3293e0d",
    "papermill": {
     "duration": 0.037977,
     "end_time": "2023-04-01T20:37:08.958358",
     "exception": false,
     "start_time": "2023-04-01T20:37:08.920381",
     "status": "completed"
    },
    "tags": []
   },
   "outputs": [
    {
     "data": {
      "text/plain": [
       "0.7606868686868687"
      ]
     },
     "execution_count": 56,
     "metadata": {},
     "output_type": "execute_result"
    }
   ],
   "source": [
    "metrics.roc_auc_score(y_test,y_proba[:,1])"
   ]
  },
  {
   "cell_type": "code",
   "execution_count": 57,
   "id": "a28bcd7a",
   "metadata": {
    "execution": {
     "iopub.execute_input": "2023-04-01T20:37:09.009458Z",
     "iopub.status.busy": "2023-04-01T20:37:09.009017Z",
     "iopub.status.idle": "2023-04-01T20:37:09.015196Z",
     "shell.execute_reply": "2023-04-01T20:37:09.014097Z"
    },
    "id": "VJhuWX1nD_J7",
    "papermill": {
     "duration": 0.034574,
     "end_time": "2023-04-01T20:37:09.017605",
     "exception": false,
     "start_time": "2023-04-01T20:37:08.983031",
     "status": "completed"
    },
    "tags": []
   },
   "outputs": [],
   "source": [
    "ftp,tpr,thresholds=metrics.roc_curve(y_test,y_proba[:,1])"
   ]
  },
  {
   "cell_type": "code",
   "execution_count": 58,
   "id": "96df836f",
   "metadata": {
    "execution": {
     "iopub.execute_input": "2023-04-01T20:37:09.068340Z",
     "iopub.status.busy": "2023-04-01T20:37:09.067907Z",
     "iopub.status.idle": "2023-04-01T20:37:09.348354Z",
     "shell.execute_reply": "2023-04-01T20:37:09.346915Z"
    },
    "id": "L68iIIwvEJAW",
    "outputId": "c9f0edbe-3e96-4493-979d-1f002a24c557",
    "papermill": {
     "duration": 0.309569,
     "end_time": "2023-04-01T20:37:09.351141",
     "exception": false,
     "start_time": "2023-04-01T20:37:09.041572",
     "status": "completed"
    },
    "tags": []
   },
   "outputs": [
    {
     "data": {
      "text/plain": [
       "Text(0.5, 0, 'fpr')"
      ]
     },
     "execution_count": 58,
     "metadata": {},
     "output_type": "execute_result"
    },
    {
     "data": {
      "image/png": "[encoded data removed]",
      "text/plain": [
       "<Figure size 1050x600 with 1 Axes>"
      ]
     },
     "metadata": {},
     "output_type": "display_data"
    }
   ],
   "source": [
    "plt.figure(figsize=(10.5,6))\n",
    "plt.plot(ftp,tpr,'*-')\n",
    "plt.plot([0,1],[0,1],'r--')\n",
    "plt.legend(['Random chance,','Logistic-Regression'])\n",
    "plt.ylabel('tpr')\n",
    "plt.xlabel('fpr')"
   ]
  },
  {
   "cell_type": "code",
   "execution_count": 59,
   "id": "04dba9c9",
   "metadata": {
    "execution": {
     "iopub.execute_input": "2023-04-01T20:37:09.405668Z",
     "iopub.status.busy": "2023-04-01T20:37:09.405163Z",
     "iopub.status.idle": "2023-04-01T20:37:09.411779Z",
     "shell.execute_reply": "2023-04-01T20:37:09.410734Z"
    },
    "id": "drUGXW3RWPB1",
    "papermill": {
     "duration": 0.037156,
     "end_time": "2023-04-01T20:37:09.414288",
     "exception": false,
     "start_time": "2023-04-01T20:37:09.377132",
     "status": "completed"
    },
    "tags": []
   },
   "outputs": [],
   "source": [
    "precision,recall,thresh=metrics.precision_recall_curve(y_test,y_proba[:,1])"
   ]
  },
  {
   "cell_type": "code",
   "execution_count": 60,
   "id": "48f5c05a",
   "metadata": {
    "execution": {
     "iopub.execute_input": "2023-04-01T20:37:09.467836Z",
     "iopub.status.busy": "2023-04-01T20:37:09.466407Z",
     "iopub.status.idle": "2023-04-01T20:37:09.474811Z",
     "shell.execute_reply": "2023-04-01T20:37:09.473673Z"
    },
    "id": "VGXL5cL0Wh1P",
    "outputId": "367eceec-22a1-4e67-de87-26653147c32b",
    "papermill": {
     "duration": 0.038279,
     "end_time": "2023-04-01T20:37:09.477306",
     "exception": false,
     "start_time": "2023-04-01T20:37:09.439027",
     "status": "completed"
    },
    "tags": []
   },
   "outputs": [
    {
     "data": {
      "text/plain": [
       "0.2947897380156972"
      ]
     },
     "execution_count": 60,
     "metadata": {},
     "output_type": "execute_result"
    }
   ],
   "source": [
    "metrics.auc(recall, precision)"
   ]
  }
 ],
 "metadata": {
  "kernelspec": {
   "display_name": "Python 3",
   "language": "python",
   "name": "python3"
  },
  "language_info": {
   "codemirror_mode": {
    "name": "ipython",
    "version": 3
   },
   "file_extension": ".py",
   "mimetype": "text/x-python",
   "name": "python",
   "nbconvert_exporter": "python",
   "pygments_lexer": "ipython3",
   "version": "3.7.12"
  },
  "papermill": {
   "default_parameters": {},
   "duration": 19.171718,
   "end_time": "2023-04-01T20:37:10.326572",
   "environment_variables": {},
   "exception": null,
   "input_path": "__notebook__.ipynb",
   "output_path": "__notebook__.ipynb",
   "parameters": {},
   "start_time": "2023-04-01T20:36:51.154854",
   "version": "2.4.0"
  }
 },
 "nbformat": 4,
 "nbformat_minor": 5
}
